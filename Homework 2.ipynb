{
 "cells": [
  {
   "cell_type": "markdown",
   "id": "6bfcf881",
   "metadata": {},
   "source": [
    "# Homework 2 Regression Refresher\n",
    "\n",
    "In class, we considered a very simply algorithm called gradient descent that we used to estimate the parameters of a simple linear model. But we left many considerations open. These include:\n",
    "- Normalization \n",
    "    - We saw that the SSE is a very big number in our example, leading us to choose awkwardly small learning rates. Normaling the error may help us use more reasonably sized learning rates.\n",
    "- When to stop\n",
    "    - We can tell the algorithm to stop after a set number of iterations or, something smarter, tell it to stop when it begins to take very small step sizes\n",
    "- Multiple solutions\n",
    "    - It should be obvious that gradient descent, as an algorithm, doesn't do much \"thinking\". \n",
    "    - If there are multiple solutions, it will only find one\n",
    "        \n",
    "\n",
    "## Problem 1 - Use gradient descent to identify multiple minima\n",
    "\n",
    "Regression algorithms ultimately search for minima. This can be where an error function is minimized (as we saw in class) or when a polynomial equation is minimized. Using the code from our lecture, adapt the code in order to indentify the roots of the following equation: \n",
    "\n",
    "$x^3 - 6x^2 +11x = 6$\n",
    "  \n",
    "- Look at homework 1 for how to tackle this problem.\n",
    "- Since the polynomial will have more than 1 solution, be sure to consider multiple starting guesses. \n",
    "- Use the \"roots\" function from numpy to check your answer. Roots is especially designed for polynomials and should find all roots."
   ]
  },
  {
   "cell_type": "code",
   "execution_count": 1,
   "id": "d9a350e6",
   "metadata": {},
   "outputs": [
    {
     "data": {
      "text/plain": [
       "[<matplotlib.lines.Line2D at 0x1e27c537d60>]"
      ]
     },
     "execution_count": 1,
     "metadata": {},
     "output_type": "execute_result"
    },
    {
     "data": {
      "image/png": "[encoded data removed]",
      "text/plain": [
       "<Figure size 432x288 with 1 Axes>"
      ]
     },
     "metadata": {
      "needs_background": "light"
     },
     "output_type": "display_data"
    }
   ],
   "source": [
    "import numpy as np\n",
    "import matplotlib as mpl\n",
    "from matplotlib import pyplot as plt\n",
    "\n",
    "#Setting up x and f(x) relation and plotting to get a feel for it\n",
    "\n",
    "x = np.linspace(-5,5,1000)\n",
    "def f(x):\n",
    "    a = 1.\n",
    "    b = -6.\n",
    "    c = 11.\n",
    "    d = -6.\n",
    "    return a*x**3+b*x**2+c*x+d\n",
    "\n",
    "polycoeff = [1,-6,11,-6]\n",
    "y = f(x)\n",
    "plt.plot(x,y)"
   ]
  },
  {
   "cell_type": "code",
   "execution_count": 2,
   "id": "bf4d56d0",
   "metadata": {},
   "outputs": [
    {
     "name": "stdout",
     "output_type": "stream",
     "text": [
      "[1. 2. 3.]\n",
      "[3. 2. 1.]\n"
     ]
    }
   ],
   "source": [
    "#This code is from the lecture material and it sets up the SSE calculations\n",
    "def SSE(sols):\n",
    "    err = f(sols)              #Since we are trying to find where y = 0, then the error is just predicted_y-0 = predicted_y\n",
    "    sumse = np.zeros(3)\n",
    "    for i in range(len(sols)):\n",
    "        sumse[i] = np.sum(err[i]**2)\n",
    "    return sumse\n",
    "\n",
    "#Derivative\n",
    "def derivative(sols):\n",
    "    DERIVATIVE = 6*sols**5-60*sols**4+232*sols**3-432*sols**2+386*sols-132\n",
    "    return DERIVATIVE\n",
    "\n",
    "\n",
    "guesses = np.array([0,1.5,5])\n",
    "rate = 0.00001\n",
    "\n",
    "#SSE(guesses)\n",
    "newval = np.zeros(3)\n",
    "for m in range(len(guesses)):\n",
    "    n = 0\n",
    "    while n < 1000000:\n",
    "        newval[m] = guesses[m] - rate * derivative(guesses[m])\n",
    "        n=n+1\n",
    "        guesses[m] = newval[m]\n",
    "        \n",
    "print(newval)\n",
    "\n",
    "#Check with np.roots solver\n",
    "solver = np.roots(polycoeff)\n",
    "print(solver)"
   ]
  },
  {
   "cell_type": "markdown",
   "id": "57ef2a89",
   "metadata": {},
   "source": [
    "#### Solving gradient descent yielded two solutions for this function while the np.roots solver yielded three.\n",
    "\n",
    "The grad descent method produced three solutions at x=1,2,3. Solving by hand shows that the three solutions obtained with this method were accurate.\n",
    "\n",
    "The roots solver obtained the same solutions, supporting the analysis done via gradient descent. "
   ]
  },
  {
   "cell_type": "markdown",
   "id": "a466a4c2",
   "metadata": {},
   "source": [
    "## Problem 2 - Linear regression can be used to analyze \"groups\"\n",
    "\n",
    "In class, we used linear regression to fit a linear model to height and weight data. In this case, the measurements (x) and the outcomes (y) are continuous. Linear regression is also commonly used to analyze groups, wherein the measurements are not continous. For example, we may have measured the height of persons who did or did not eat asparagus when they were young. In this case, x is discrete - a collection of 1's and 0's. \n",
    "\n",
    "Let's use linear regression to analyze the miles per gallon achieved by select type of cars. Download the data from https://gist.github.com/noamross/e5d3e859aa0c794be10b. We want to determine if 8 cylinder vehicles get less gas mileage than 4 and 6 cylinder cars. Cyl = cylinders; MPG = miles per gallon on the table.\n",
    "\n",
    "### a) Write the code to determine the average MPG for 8 cylinder vehicles vs 4/6 cyl vehicle.\n",
    "Be sure the mean values are clearly identified or report them in a new markup cell below the code. Be sure that you are treating 4 and 6 cyl vehicles as one group."
   ]
  },
  {
   "cell_type": "code",
   "execution_count": 3,
   "id": "23d62f64",
   "metadata": {},
   "outputs": [
    {
     "name": "stdout",
     "output_type": "stream",
     "text": [
      "Eight cylinder vehicles get 15.1 MPG on average\n",
      "Six and Four cylinder vehicles get 24.0 MPG on average\n"
     ]
    }
   ],
   "source": [
    "#Loading data from a text file\n",
    "dat=np.loadtxt(open(\"cars.csv\", \"rb\"), delimiter=\",\", skiprows=1,usecols=np.arange(1,12))\n",
    "#print(dat)\n",
    "#I removed the vehicle names because it was giving me issues and it's not necessary for this specific problem\n",
    "\n",
    "Cyl = dat[:,1]\n",
    "#print(Cyl)\n",
    "\n",
    "MPG = dat[:,0]\n",
    "#print(MPG)\n",
    "\n",
    "#Determining average MPG's for 8 versus 6/4 cylinder vehicles\n",
    "ecounter = 0\n",
    "sfcounter = 0\n",
    "esum=0\n",
    "sfsum=0\n",
    "for i in range(len(MPG)):\n",
    "    if Cyl[i] == 8.:\n",
    "        esum = esum + MPG[i]\n",
    "        ecounter = ecounter + 1\n",
    "    else:\n",
    "        sfsum = sfsum + MPG[i]\n",
    "        sfcounter = sfcounter+1\n",
    "\n",
    "eavg = esum/ecounter\n",
    "sfavg = sfsum/sfcounter\n",
    "\n",
    "\n",
    "print(f'Eight cylinder vehicles get {eavg:.3} MPG on average')\n",
    "print(f'Six and Four cylinder vehicles get {sfavg:.3} MPG on average')"
   ]
  },
  {
   "cell_type": "markdown",
   "id": "dad8b85a",
   "metadata": {},
   "source": [
    "### b) Analyze using linear regression\n",
    "To analyze with linear regression, we have to create a linear model. Here, our y is the MPG. But x is not a continous variable - it's a group variable. \n",
    "\n",
    "- Let's create a \"Group\" column in our data, where a 1 indicates that a vehicle has a 8 cyl engine and a 0 to indicate a 4 or 6 cylinder vehicle. \n",
    "- Use the linear regression **mathematical code** (do not use packages; perform the matrix algrebra) from class to calculate the slope and intercept. Feel free to check your answer using on the packages demonstrated in class.\n",
    "- Report the slope and intercept in a text box below your code. \n",
    "- In the text box, also compare the calculated slope and intercept to the values of the means calculated above. Do you notice any obvious relationships?\n",
    "\n"
   ]
  },
  {
   "cell_type": "code",
   "execution_count": 4,
   "id": "1958d642",
   "metadata": {
    "scrolled": true
   },
   "outputs": [
    {
     "name": "stdout",
     "output_type": "stream",
     "text": [
      "Our intercept is  23.97222222222222 and our slope is -8.872222222222222\n",
      "Our slope when we force the intercept to be zero =  [15.1]\n"
     ]
    },
    {
     "data": {
      "text/plain": [
       "Text(0, 0.5, 'MPG')"
      ]
     },
     "execution_count": 4,
     "metadata": {},
     "output_type": "execute_result"
    },
    {
     "data": {
      "image/png": "[encoded data removed]",
      "text/plain": [
       "<Figure size 432x288 with 1 Axes>"
      ]
     },
     "metadata": {
      "needs_background": "light"
     },
     "output_type": "display_data"
    }
   ],
   "source": [
    "#Adding a binary array based on 8 vs 6/4 cylinders\n",
    "comp = np.zeros(len(Cyl))\n",
    "for i in range(len(Cyl)):\n",
    "    if Cyl[i] == 8.:\n",
    "        comp[i] = 1\n",
    "    else:\n",
    "        comp[i] = 0\n",
    "X = np.c_[np.ones(len(MPG)),comp]\n",
    "#print(X)\n",
    "\n",
    "#Using linear algebra data from the lecture file\n",
    "from numpy.linalg import inv\n",
    "tmp = inv(np.matmul(np.transpose(X),X))\n",
    "INTERCEPT, SLOPE = tmp @ np.transpose(X) @ MPG\n",
    "print(\"Our intercept is \",INTERCEPT, \"and our slope is\", SLOPE)\n",
    "\n",
    "X = np.c_[comp]\n",
    "tmp = inv(np.matmul(np.transpose(X),X))\n",
    "\n",
    "SLOPE = tmp @ np.transpose(X) @ MPG\n",
    "print(\"Our slope when we force the intercept to be zero = \",SLOPE)\n",
    "\n",
    "plt.plot(comp,MPG,'o')\n",
    "plt.ylabel('MPG')"
   ]
  },
  {
   "cell_type": "code",
   "execution_count": 5,
   "id": "e5b0458b",
   "metadata": {},
   "outputs": [
    {
     "name": "stdout",
     "output_type": "stream",
     "text": [
      "                            OLS Regression Results                            \n",
      "==============================================================================\n",
      "Dep. Variable:                      y   R-squared:                       0.551\n",
      "Model:                            OLS   Adj. R-squared:                  0.536\n",
      "Method:                 Least Squares   F-statistic:                     36.74\n",
      "Date:                Fri, 09 Sep 2022   Prob (F-statistic):           1.17e-06\n",
      "Time:                        12:59:44   Log-Likelihood:                -89.584\n",
      "No. Observations:                  32   AIC:                             183.2\n",
      "Df Residuals:                      30   BIC:                             186.1\n",
      "Df Model:                           1                                         \n",
      "Covariance Type:            nonrobust                                         \n",
      "==============================================================================\n",
      "                 coef    std err          t      P>|t|      [0.025      0.975]\n",
      "------------------------------------------------------------------------------\n",
      "const         23.9722      0.968     24.761      0.000      21.995      25.949\n",
      "x1            -8.8722      1.464     -6.061      0.000     -11.862      -5.883\n",
      "==============================================================================\n",
      "Omnibus:                        3.039   Durbin-Watson:                   1.339\n",
      "Prob(Omnibus):                  0.219   Jarque-Bera (JB):                2.365\n",
      "Skew:                           0.665   Prob(JB):                        0.307\n",
      "Kurtosis:                       2.942   Cond. No.                         2.50\n",
      "==============================================================================\n",
      "\n",
      "Notes:\n",
      "[1] Standard Errors assume that the covariance matrix of the errors is correctly specified.\n"
     ]
    }
   ],
   "source": [
    "import statsmodels.api as sm\n",
    "model = sm.OLS(MPG, sm.add_constant(comp)).fit()\n",
    "\n",
    "# erase the add constant above to remove the intercept of the model.\n",
    "print(model.summary())"
   ]
  },
  {
   "cell_type": "code",
   "execution_count": 6,
   "id": "6df33097",
   "metadata": {},
   "outputs": [
    {
     "name": "stdout",
     "output_type": "stream",
     "text": [
      "                                 OLS Regression Results                                \n",
      "=======================================================================================\n",
      "Dep. Variable:                      y   R-squared (uncentered):                   0.227\n",
      "Model:                            OLS   Adj. R-squared (uncentered):              0.202\n",
      "Method:                 Least Squares   F-statistic:                              9.120\n",
      "Date:                Fri, 09 Sep 2022   Prob (F-statistic):                     0.00503\n",
      "Time:                        12:59:44   Log-Likelihood:                         -138.63\n",
      "No. Observations:                  32   AIC:                                      279.3\n",
      "Df Residuals:                      31   BIC:                                      280.7\n",
      "Df Model:                           1                                                  \n",
      "Covariance Type:            nonrobust                                                  \n",
      "==============================================================================\n",
      "                 coef    std err          t      P>|t|      [0.025      0.975]\n",
      "------------------------------------------------------------------------------\n",
      "x1            15.1000      5.000      3.020      0.005       4.902      25.298\n",
      "==============================================================================\n",
      "Omnibus:                       22.904   Durbin-Watson:                   0.576\n",
      "Prob(Omnibus):                  0.000   Jarque-Bera (JB):                3.253\n",
      "Skew:                          -0.038   Prob(JB):                        0.197\n",
      "Kurtosis:                       1.440   Cond. No.                         1.00\n",
      "==============================================================================\n",
      "\n",
      "Notes:\n",
      "[1] R² is computed without centering (uncentered) since the model does not contain a constant.\n",
      "[2] Standard Errors assume that the covariance matrix of the errors is correctly specified.\n"
     ]
    }
   ],
   "source": [
    "import statsmodels.api as sm\n",
    "model = sm.OLS(MPG, comp).fit()\n",
    "\n",
    "# erase the add constant above to remove the intercept of the model.\n",
    "print(model.summary())"
   ]
  },
  {
   "cell_type": "markdown",
   "id": "aa98d92a",
   "metadata": {},
   "source": [
    "# Analysis of answer to (b):\n",
    "\n",
    "Our intercept is 23.97 and our slope is -8.87\n",
    "Our slope when we force the intercept to be zero =  15.1\n",
    "\n",
    "The slope is equivalent to the average 8 cylinder MPG value that was calculated above when the intercept is forced to be zero. \n",
    "The slope is equivalent to the average 6/4 cylinder MPG value that was calculated above when an intercept is allowed.\n",
    "\n",
    "These results were verified via the regression package.\n"
   ]
  }
 ],
 "metadata": {
  "kernelspec": {
   "display_name": "Python 3 (ipykernel)",
   "language": "python",
   "name": "python3"
  },
  "language_info": {
   "codemirror_mode": {
    "name": "ipython",
    "version": 3
   },
   "file_extension": ".py",
   "mimetype": "text/x-python",
   "name": "python",
   "nbconvert_exporter": "python",
   "pygments_lexer": "ipython3",
   "version": "3.9.7"
  }
 },
 "nbformat": 4,
 "nbformat_minor": 5
}
