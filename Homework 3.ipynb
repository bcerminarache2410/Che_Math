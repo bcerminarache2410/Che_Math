{
 "cells": [
  {
   "cell_type": "markdown",
   "id": "9c3fa2dd",
   "metadata": {
    "id": "9c3fa2dd"
   },
   "source": [
    "# Homework 3 Fitting ODEs!\n",
    "\n",
    "**You must work alone as much as possible on this assignment.** You are welcome to ask colleagues for help with a bug in your code, but this should be for very minor issues. \n",
    "\n",
    "\n",
    "\n"
   ]
  },
  {
   "cell_type": "markdown",
   "id": "ebde5410",
   "metadata": {
    "id": "ebde5410"
   },
   "source": [
    "# Problem 1: Analysis of a simple chemostat\n",
    "\n",
    "\n",
    "Question from H.T. Banks and Marie Davidian\n",
    "\n",
    "A chemostat is a bioreactor where a microbial culture is continuously supplied with nutrients at a fixed rate and concomitantly harvested to keep the culture at a constant concentration. Chemostats are also used as microcosms in ecology and evolutionary biology as well as in wastewater treatment. \n",
    "\n",
    "Here, we consider the problem of growth of micro-organisms, for example, a population of bacteria requiring an energy source containing carbon for growth{(say a simple sugar). Suppose we have some bacteria in a container, and we add nutrients continuously in this container (i.e., a continuous culture medium). Assume the bacteria's growth depends on a limiting nutrient\n",
    "alone (i.e., all other nutrients are in excess and other conditions necessary for their growth are adequate). The container has an outlet so that nutrients and bacteria in the container can flow out. We further assume the container is well mixed.\n",
    "\n",
    "We use the following equations and info to describe the chemostat dynamics:\n",
    "\n",
    "Let: \n",
    "- N(t) be the mass of bacteria at time t. \n",
    "- c(t) be the concentration of nutrients ($g/l$) and $c_0$ be the concentration of nutrients in the feed line, equal to 8 g/l.\n",
    "- V be the volume of the chemost stat and equal to 1$l$.\n",
    "- Q be the fixed volumetric flow rate and equal to 1 $l/h$.\n",
    "- q = Q/V be the dilution rate ($h^{-1}$)\n",
    "\n",
    "\\begin{align}\n",
    "\\dot{N} = rN(t)-qN(t)\\\\\n",
    "\\dot{c} = qc_0-qc(t)-y^{-1}rN(t)\\\\\n",
    "\\end{align}\n",
    "\n",
    "However, we have several **unknown parameters that we need to estimate**:\n",
    "\n",
    "- r is the growth rate of bacteria ($h^{-1}$) defined as $r(c) = \\frac{R_{max}c(t)}{(K_m+c(t))}$, but $K_m$ and $R_{max}$ are unknown. \n",
    "- y is the yield parameter and is also unknown. \n",
    "\n",
    "So we went to the lab and **collected training data (see csv file).**\n",
    "\n"
   ]
  },
  {
   "cell_type": "markdown",
   "id": "ab7e248f",
   "metadata": {
    "id": "ab7e248f"
   },
   "source": [
    "# In the space below, plot the training data versus time. \n",
    "    - Label all axes and data sets. Unclear figures will lose points.\n",
    "    "
   ]
  },
  {
   "cell_type": "code",
   "execution_count": 1,
   "id": "d6fafb66",
   "metadata": {},
   "outputs": [],
   "source": [
    "import numpy as np\n",
    "import matplotlib as mpl\n",
    "import matplotlib.pyplot as plt\n",
    "import pandas as pd"
   ]
  },
  {
   "cell_type": "markdown",
   "id": "3f94d1dd",
   "metadata": {},
   "source": [
    "# Attempt 1"
   ]
  },
  {
   "cell_type": "code",
   "execution_count": 2,
   "id": "b997389c",
   "metadata": {},
   "outputs": [],
   "source": [
    "parameters = [.075,1.,-0.8]\n",
    "t=np.linspace(0,19,25)"
   ]
  },
  {
   "cell_type": "code",
   "execution_count": 3,
   "id": "f64b1aa0",
   "metadata": {
    "id": "f64b1aa0"
   },
   "outputs": [
    {
     "data": {
      "text/plain": [
       "Text(0.5, 1.0, 'Experimental Data for Bacteria Mass and \\n Nutrient Concentration as a Function of Time')"
      ]
     },
     "execution_count": 3,
     "metadata": {},
     "output_type": "execute_result"
    },
    {
     "data": {
      "image/png": "[encoded data removed]",
      "text/plain": [
       "<Figure size 432x288 with 1 Axes>"
      ]
     },
     "metadata": {
      "needs_background": "light"
     },
     "output_type": "display_data"
    }
   ],
   "source": [
    "file_dat = pd.read_csv('Homework 3 training data.csv')\n",
    "dfdat = pd.DataFrame(file_dat)\n",
    "dat = pd.DataFrame.to_numpy(dfdat)\n",
    "\n",
    "Q = 1. #L/h\n",
    "V = 1. #L\n",
    "q = Q/V #h^-1\n",
    "\n",
    "\n",
    "expt = dat[:,0]\n",
    "expN = dat[:,1]\n",
    "expc = dat[:,2]\n",
    "c0 = expc[0]\n",
    "N0 = expN[0]\n",
    "\n",
    "\n",
    "plt.plot(expt,expN,'ro',expc,'bo')\n",
    "plt.xlabel('Time')\n",
    "plt.ylabel('Data Result')\n",
    "plt.legend(['N = mass of bacteria','c = concentration of nutrients'])\n",
    "plt.title('Experimental Data for Bacteria Mass and \\n Nutrient Concentration as a Function of Time')"
   ]
  },
  {
   "cell_type": "markdown",
   "id": "07b8edbf",
   "metadata": {
    "id": "07b8edbf"
   },
   "source": [
    "# Below, write the functions needed to define the RMSE.\n",
    "\n",
    "- Be sure to test some values to ensure it runs.\n"
   ]
  },
  {
   "cell_type": "code",
   "execution_count": 4,
   "id": "8793e622",
   "metadata": {
    "id": "8793e622",
    "scrolled": true
   },
   "outputs": [],
   "source": [
    "#Setting up ODE functions\n",
    "from scipy.integrate import solve_ivp\n",
    "from scipy.integrate import odeint\n",
    "from scipy.optimize import minimize\n",
    "1\n",
    "def odes(x,t):\n",
    "    q = 1\n",
    "    c0 = 0.49\n",
    "    Km, Rmax, y = parameters\n",
    "    #Km,Rmax,y = [1,1,1]\n",
    "    N = x[0]\n",
    "    c = x[1]\n",
    "    \n",
    "    r = Rmax*c/(Km+c)    \n",
    "    dNdt = r*N-q*N\n",
    "    dcdt = q*(c0-c)-y**(-1)*r*N\n",
    "    return [dNdt,dcdt]\n",
    "\n",
    "initcond = [N0,c0]"
   ]
  },
  {
   "cell_type": "code",
   "execution_count": 5,
   "id": "e4b0644c",
   "metadata": {},
   "outputs": [],
   "source": [
    "def myfunc1(initcond,t):\n",
    "    x = odeint(odes,initcond,t)\n",
    "    return x"
   ]
  },
  {
   "cell_type": "code",
   "execution_count": 6,
   "id": "cf3e9a93",
   "metadata": {},
   "outputs": [
    {
     "name": "stdout",
     "output_type": "stream",
     "text": [
      "7.793432756092495\n"
     ]
    }
   ],
   "source": [
    "def RMSEN(parameters):\n",
    "    odeNs=np.zeros(len(expt))\n",
    "#    odecs=np.zeros(len(expt))\n",
    "    #x = odeint(odes,initcond,t)\n",
    "    x = myfunc1(initcond,t)\n",
    "    N = x[:,0]\n",
    "\n",
    "    \n",
    "    for i in range(len(t)):\n",
    "        for j in range(len(expt)):\n",
    "            if t[i] <= expt[j]+0.1 or t[i] <= expt[j]-0.1:\n",
    "                odeNs[j] = N[i]\n",
    "\n",
    "    \n",
    "    #Defining the obtained ODE values at corresponding points from the data to obtain errors\n",
    "    \n",
    "    Nerr = expN-odeNs\n",
    "    return np.sqrt(np.sum(Nerr)**2/20)#,np.sqrt(np.sum(cerr)**2/20)]\n",
    "\n",
    "ansN = RMSEN(parameters)\n",
    "print(ansN)"
   ]
  },
  {
   "cell_type": "code",
   "execution_count": 7,
   "id": "9834ab53",
   "metadata": {},
   "outputs": [
    {
     "name": "stdout",
     "output_type": "stream",
     "text": [
      "1.74333999386008\n"
     ]
    }
   ],
   "source": [
    "def RMSEc(parameters):\n",
    "    odecs=np.zeros(len(expt))\n",
    "    #x = odeint(odes,initcond,t)\n",
    "    x = myfunc1(initcond,t)\n",
    "    c = x[:,1]\n",
    "    for i in range(len(t)):\n",
    "        for j in range(len(expt)):\n",
    "            if t[i] <= expt[j]+0.1 or t[i] <= expt[j]-0.1:\n",
    "                odecs[j] = c[i]\n",
    "    \n",
    "    #Defining the obtained ODE values at corresponding points from the data to obtain errors\n",
    "    \n",
    "    cerr = odecs-expc\n",
    "    return np.sqrt(np.sum(cerr)**2/20)\n",
    "\n",
    "ansc = RMSEc(parameters)\n",
    "print(ansc)"
   ]
  },
  {
   "cell_type": "code",
   "execution_count": 8,
   "id": "38a68477",
   "metadata": {},
   "outputs": [
    {
     "data": {
      "text/plain": [
       "<matplotlib.legend.Legend at 0x25f1d23bc70>"
      ]
     },
     "execution_count": 8,
     "metadata": {},
     "output_type": "execute_result"
    },
    {
     "data": {
      "image/png": "[encoded data removed]",
      "text/plain": [
       "<Figure size 432x288 with 1 Axes>"
      ]
     },
     "metadata": {
      "needs_background": "light"
     },
     "output_type": "display_data"
    }
   ],
   "source": [
    "x=myfunc1(initcond,t)\n",
    "N=x[:,0]\n",
    "c=x[:,1]\n",
    "plt.plot(t,N,'r')\n",
    "plt.plot(t,c,'b')\n",
    "plt.plot(expt,expN,'ro')\n",
    "plt.plot(expt,expc,'bo')\n",
    "plt.legend(['N','c'])"
   ]
  },
  {
   "cell_type": "markdown",
   "id": "abdce4be",
   "metadata": {
    "id": "abdce4be"
   },
   "source": [
    "# Use minimize to estimate parameters.\n",
    "- Test the accuracy of the fit by plotting, on one figure, the data for N and c and the fitted ODE's N and c responses.\n",
    "    - Clearly label the data and fitted trajectories.\n",
    "- If the figure shows that the fit is not good or if minimize fails to converge, try a new initial guess.\n",
    "- Once your have your best answer, **go to our Canvas Quizzes** and submit your estimates. The quiz will  let you know if you're correct or not ;)\n",
    "    - You can submit up to 5 guesses.\n",
    "    - You must keep the **code that generates each guess**. You can create extra code cells as needed.\n",
    "    - You will not lose points for wrong guesses. Do not resubmit the same numbers over and over. Try adjusting initial guesses to identify new possible solutions."
   ]
  },
  {
   "cell_type": "code",
   "execution_count": 9,
   "id": "9931fa7d",
   "metadata": {
    "scrolled": false
   },
   "outputs": [
    {
     "name": "stdout",
     "output_type": "stream",
     "text": [
      "      fun: 1.74333999386008\n",
      " hess_inv: array([[1, 0, 0],\n",
      "       [0, 1, 0],\n",
      "       [0, 0, 1]])\n",
      "      jac: array([0., 0., 0.])\n",
      "  message: 'Optimization terminated successfully.'\n",
      "     nfev: 4\n",
      "      nit: 0\n",
      "     njev: 1\n",
      "   status: 0\n",
      "  success: True\n",
      "        x: array([ 0.075,  1.   , -0.8  ])\n"
     ]
    }
   ],
   "source": [
    "solc = minimize(RMSEc,x0 = parameters)\n",
    "print(solc)"
   ]
  },
  {
   "cell_type": "code",
   "execution_count": 10,
   "id": "154ad513",
   "metadata": {
    "scrolled": true
   },
   "outputs": [
    {
     "name": "stdout",
     "output_type": "stream",
     "text": [
      "      fun: 7.793432756092495\n",
      " hess_inv: array([[1, 0, 0],\n",
      "       [0, 1, 0],\n",
      "       [0, 0, 1]])\n",
      "      jac: array([0., 0., 0.])\n",
      "  message: 'Optimization terminated successfully.'\n",
      "     nfev: 4\n",
      "      nit: 0\n",
      "     njev: 1\n",
      "   status: 0\n",
      "  success: True\n",
      "        x: array([ 0.075,  1.   , -0.8  ])\n"
     ]
    }
   ],
   "source": [
    "solN = minimize(RMSEN, x0 = parameters)\n",
    "print(solN)"
   ]
  },
  {
   "cell_type": "markdown",
   "id": "59ee89e3",
   "metadata": {},
   "source": [
    "# Attempt 2"
   ]
  },
  {
   "cell_type": "code",
   "execution_count": 11,
   "id": "295a7007",
   "metadata": {},
   "outputs": [],
   "source": [
    "parameters = [.1,0.75,-.9]\n",
    "t=np.linspace(0,19,25)"
   ]
  },
  {
   "cell_type": "code",
   "execution_count": 12,
   "id": "73c18155",
   "metadata": {
    "id": "f64b1aa0"
   },
   "outputs": [
    {
     "data": {
      "text/plain": [
       "Text(0.5, 1.0, 'Experimental Data for Bacteria Mass and \\n Nutrient Concentration as a Function of Time')"
      ]
     },
     "execution_count": 12,
     "metadata": {},
     "output_type": "execute_result"
    },
    {
     "data": {
      "image/png": "[encoded data removed]",
      "text/plain": [
       "<Figure size 432x288 with 1 Axes>"
      ]
     },
     "metadata": {
      "needs_background": "light"
     },
     "output_type": "display_data"
    }
   ],
   "source": [
    "file_dat = pd.read_csv('Homework 3 training data.csv')\n",
    "dfdat = pd.DataFrame(file_dat)\n",
    "dat = pd.DataFrame.to_numpy(dfdat)\n",
    "\n",
    "Q = 1. #L/h\n",
    "V = 1. #L\n",
    "q = Q/V #h^-1\n",
    "\n",
    "\n",
    "expt = dat[:,0]\n",
    "expN = dat[:,1]\n",
    "expc = dat[:,2]\n",
    "c0 = expc[0]\n",
    "N0 = expN[0]\n",
    "\n",
    "\n",
    "plt.plot(expt,expN,'ro',expc,'bo')\n",
    "plt.xlabel('Time')\n",
    "plt.ylabel('Data Result')\n",
    "plt.legend(['N = mass of bacteria','c = concentration of nutrients'])\n",
    "plt.title('Experimental Data for Bacteria Mass and \\n Nutrient Concentration as a Function of Time')"
   ]
  },
  {
   "cell_type": "markdown",
   "id": "0ea09c60",
   "metadata": {
    "id": "07b8edbf"
   },
   "source": [
    "# Below, write the functions needed to define the RMSE.\n",
    "\n",
    "- Be sure to test some values to ensure it runs.\n"
   ]
  },
  {
   "cell_type": "code",
   "execution_count": 13,
   "id": "fbd1f7d4",
   "metadata": {
    "id": "8793e622",
    "scrolled": true
   },
   "outputs": [],
   "source": [
    "#Setting up ODE functions\n",
    "from scipy.integrate import solve_ivp\n",
    "from scipy.integrate import odeint\n",
    "from scipy.optimize import minimize\n",
    "1\n",
    "def odes(x,t):\n",
    "    q = 1\n",
    "    c0 = 0.49\n",
    "    Km, Rmax, y = parameters\n",
    "    #Km,Rmax,y = [1,1,1]\n",
    "    N = x[0]\n",
    "    c = x[1]\n",
    "    \n",
    "    r = Rmax*c/(Km+c)    \n",
    "    dNdt = r*N-q*N\n",
    "    dcdt = q*(c0-c)-y**(-1)*r*N\n",
    "    return [dNdt,dcdt]\n",
    "\n",
    "initcond = [N0,c0]"
   ]
  },
  {
   "cell_type": "code",
   "execution_count": 14,
   "id": "250d14c2",
   "metadata": {},
   "outputs": [],
   "source": [
    "def myfunc1(initcond,t):\n",
    "    x = odeint(odes,initcond,t)\n",
    "    return x"
   ]
  },
  {
   "cell_type": "code",
   "execution_count": 15,
   "id": "a00d04a3",
   "metadata": {},
   "outputs": [
    {
     "name": "stdout",
     "output_type": "stream",
     "text": [
      "4.023262386720355\n"
     ]
    }
   ],
   "source": [
    "def RMSEN(parameters):\n",
    "    odeNs=np.zeros(len(expt))\n",
    "#    odecs=np.zeros(len(expt))\n",
    "    #x = odeint(odes,initcond,t)\n",
    "    x = myfunc1(initcond,t)\n",
    "    N = x[:,0]\n",
    "\n",
    "    \n",
    "    for i in range(len(t)):\n",
    "        for j in range(len(expt)):\n",
    "            if t[i] <= expt[j]+0.1 or t[i] <= expt[j]-0.1:\n",
    "                odeNs[j] = N[i]\n",
    "\n",
    "    \n",
    "    #Defining the obtained ODE values at corresponding points from the data to obtain errors\n",
    "    \n",
    "    Nerr = expN-odeNs\n",
    "    return np.sqrt(np.sum(Nerr)**2/20)#,np.sqrt(np.sum(cerr)**2/20)]\n",
    "\n",
    "ansN = RMSEN(parameters)\n",
    "print(ansN)"
   ]
  },
  {
   "cell_type": "code",
   "execution_count": 16,
   "id": "9795988d",
   "metadata": {},
   "outputs": [
    {
     "name": "stdout",
     "output_type": "stream",
     "text": [
      "13.335339042829334\n"
     ]
    }
   ],
   "source": [
    "def RMSEc(parameters):\n",
    "    odecs=np.zeros(len(expt))\n",
    "    #x = odeint(odes,initcond,t)\n",
    "    x = myfunc1(initcond,t)\n",
    "    c = x[:,1]\n",
    "    for i in range(len(t)):\n",
    "        for j in range(len(expt)):\n",
    "            if t[i] <= expt[j]+0.1 or t[i] <= expt[j]-0.1:\n",
    "                odecs[j] = c[i]\n",
    "    \n",
    "    #Defining the obtained ODE values at corresponding points from the data to obtain errors\n",
    "    \n",
    "    cerr = odecs-expc\n",
    "    return np.sqrt(np.sum(cerr)**2/20)\n",
    "\n",
    "ansc = RMSEc(parameters)\n",
    "print(ansc)"
   ]
  },
  {
   "cell_type": "code",
   "execution_count": 17,
   "id": "69cd0aff",
   "metadata": {},
   "outputs": [
    {
     "data": {
      "text/plain": [
       "<matplotlib.legend.Legend at 0x25f1d3692e0>"
      ]
     },
     "execution_count": 17,
     "metadata": {},
     "output_type": "execute_result"
    },
    {
     "data": {
      "image/png": "[encoded data removed]",
      "text/plain": [
       "<Figure size 432x288 with 1 Axes>"
      ]
     },
     "metadata": {
      "needs_background": "light"
     },
     "output_type": "display_data"
    }
   ],
   "source": [
    "x=myfunc1(initcond,t)\n",
    "N=x[:,0]\n",
    "c=x[:,1]\n",
    "plt.plot(t,N,'r')\n",
    "plt.plot(t,c,'b')\n",
    "plt.plot(expt,expN,'ro')\n",
    "plt.plot(expt,expc,'bo')\n",
    "plt.legend(['N','c'])"
   ]
  },
  {
   "cell_type": "markdown",
   "id": "11c0e3a6",
   "metadata": {
    "id": "abdce4be"
   },
   "source": [
    "# Use minimize to estimate parameters.\n",
    "- Test the accuracy of the fit by plotting, on one figure, the data for N and c and the fitted ODE's N and c responses.\n",
    "    - Clearly label the data and fitted trajectories.\n",
    "- If the figure shows that the fit is not good or if minimize fails to converge, try a new initial guess.\n",
    "- Once your have your best answer, **go to our Canvas Quizzes** and submit your estimates. The quiz will  let you know if you're correct or not ;)\n",
    "    - You can submit up to 5 guesses.\n",
    "    - You must keep the **code that generates each guess**. You can create extra code cells as needed.\n",
    "    - You will not lose points for wrong guesses. Do not resubmit the same numbers over and over. Try adjusting initial guesses to identify new possible solutions."
   ]
  },
  {
   "cell_type": "code",
   "execution_count": 18,
   "id": "f34dd0ba",
   "metadata": {
    "scrolled": false
   },
   "outputs": [
    {
     "name": "stdout",
     "output_type": "stream",
     "text": [
      "      fun: 13.335339042829334\n",
      " hess_inv: array([[1, 0, 0],\n",
      "       [0, 1, 0],\n",
      "       [0, 0, 1]])\n",
      "      jac: array([0., 0., 0.])\n",
      "  message: 'Optimization terminated successfully.'\n",
      "     nfev: 4\n",
      "      nit: 0\n",
      "     njev: 1\n",
      "   status: 0\n",
      "  success: True\n",
      "        x: array([ 0.1 ,  0.75, -0.9 ])\n"
     ]
    }
   ],
   "source": [
    "solc = minimize(RMSEc,x0 = parameters)\n",
    "print(solc)"
   ]
  },
  {
   "cell_type": "code",
   "execution_count": 19,
   "id": "5ff3c0e4",
   "metadata": {
    "scrolled": true
   },
   "outputs": [
    {
     "name": "stdout",
     "output_type": "stream",
     "text": [
      "      fun: 4.023262386720355\n",
      " hess_inv: array([[1, 0, 0],\n",
      "       [0, 1, 0],\n",
      "       [0, 0, 1]])\n",
      "      jac: array([0., 0., 0.])\n",
      "  message: 'Optimization terminated successfully.'\n",
      "     nfev: 4\n",
      "      nit: 0\n",
      "     njev: 1\n",
      "   status: 0\n",
      "  success: True\n",
      "        x: array([ 0.1 ,  0.75, -0.9 ])\n"
     ]
    }
   ],
   "source": [
    "solN = minimize(RMSEN, x0 = parameters)\n",
    "print(solN)"
   ]
  },
  {
   "cell_type": "markdown",
   "id": "ec16e736",
   "metadata": {},
   "source": [
    "# Attempt 3"
   ]
  },
  {
   "cell_type": "code",
   "execution_count": 20,
   "id": "3d209ebf",
   "metadata": {},
   "outputs": [],
   "source": [
    "parameters = [.001,0.95,-0.1]\n",
    "t=np.linspace(0,19,25)"
   ]
  },
  {
   "cell_type": "code",
   "execution_count": 21,
   "id": "1666091d",
   "metadata": {
    "id": "f64b1aa0"
   },
   "outputs": [
    {
     "data": {
      "text/plain": [
       "Text(0.5, 1.0, 'Experimental Data for Bacteria Mass and \\n Nutrient Concentration as a Function of Time')"
      ]
     },
     "execution_count": 21,
     "metadata": {},
     "output_type": "execute_result"
    },
    {
     "data": {
      "image/png": "[encoded data removed]",
      "text/plain": [
       "<Figure size 432x288 with 1 Axes>"
      ]
     },
     "metadata": {
      "needs_background": "light"
     },
     "output_type": "display_data"
    }
   ],
   "source": [
    "file_dat = pd.read_csv('Homework 3 training data.csv')\n",
    "dfdat = pd.DataFrame(file_dat)\n",
    "dat = pd.DataFrame.to_numpy(dfdat)\n",
    "\n",
    "Q = 1. #L/h\n",
    "V = 1. #L\n",
    "q = Q/V #h^-1\n",
    "\n",
    "\n",
    "expt = dat[:,0]\n",
    "expN = dat[:,1]\n",
    "expc = dat[:,2]\n",
    "c0 = expc[0]\n",
    "N0 = expN[0]\n",
    "\n",
    "\n",
    "plt.plot(expt,expN,'ro',expc,'bo')\n",
    "plt.xlabel('Time')\n",
    "plt.ylabel('Data Result')\n",
    "plt.legend(['N = mass of bacteria','c = concentration of nutrients'])\n",
    "plt.title('Experimental Data for Bacteria Mass and \\n Nutrient Concentration as a Function of Time')"
   ]
  },
  {
   "cell_type": "markdown",
   "id": "5a3a7662",
   "metadata": {
    "id": "07b8edbf"
   },
   "source": [
    "# Below, write the functions needed to define the RMSE.\n",
    "\n",
    "- Be sure to test some values to ensure it runs.\n"
   ]
  },
  {
   "cell_type": "code",
   "execution_count": 22,
   "id": "097a6f9e",
   "metadata": {
    "id": "8793e622",
    "scrolled": true
   },
   "outputs": [],
   "source": [
    "#Setting up ODE functions\n",
    "from scipy.integrate import solve_ivp\n",
    "from scipy.integrate import odeint\n",
    "from scipy.optimize import minimize\n",
    "1\n",
    "def odes(x,t):\n",
    "    q = 1\n",
    "    c0 = 0.49\n",
    "    Km, Rmax, y = parameters\n",
    "    #Km,Rmax,y = [1,1,1]\n",
    "    N = x[0]\n",
    "    c = x[1]\n",
    "    \n",
    "    r = Rmax*c/(Km+c)    \n",
    "    dNdt = r*N-q*N\n",
    "    dcdt = q*(c0-c)-y**(-1)*r*N\n",
    "    return [dNdt,dcdt]\n",
    "\n",
    "initcond = [N0,c0]"
   ]
  },
  {
   "cell_type": "code",
   "execution_count": 23,
   "id": "0d4235e8",
   "metadata": {},
   "outputs": [],
   "source": [
    "def myfunc1(initcond,t):\n",
    "    x = odeint(odes,initcond,t)\n",
    "    return x"
   ]
  },
  {
   "cell_type": "code",
   "execution_count": 24,
   "id": "284dc1c0",
   "metadata": {},
   "outputs": [
    {
     "name": "stdout",
     "output_type": "stream",
     "text": [
      "4.220488395710231\n"
     ]
    }
   ],
   "source": [
    "def RMSEN(parameters):\n",
    "    odeNs=np.zeros(len(expt))\n",
    "#    odecs=np.zeros(len(expt))\n",
    "    #x = odeint(odes,initcond,t)\n",
    "    x = myfunc1(initcond,t)\n",
    "    N = x[:,0]\n",
    "\n",
    "    \n",
    "    for i in range(len(t)):\n",
    "        for j in range(len(expt)):\n",
    "            if t[i] <= expt[j]+0.1 or t[i] <= expt[j]-0.1:\n",
    "                odeNs[j] = N[i]\n",
    "\n",
    "    \n",
    "    #Defining the obtained ODE values at corresponding points from the data to obtain errors\n",
    "    \n",
    "    Nerr = expN-odeNs\n",
    "    return np.sqrt(np.sum(Nerr)**2/20)#,np.sqrt(np.sum(cerr)**2/20)]\n",
    "\n",
    "ansN = RMSEN(parameters)\n",
    "print(ansN)"
   ]
  },
  {
   "cell_type": "code",
   "execution_count": 25,
   "id": "604bdbb9",
   "metadata": {},
   "outputs": [
    {
     "name": "stdout",
     "output_type": "stream",
     "text": [
      "88.80201838131524\n"
     ]
    }
   ],
   "source": [
    "def RMSEc(parameters):\n",
    "    odecs=np.zeros(len(expt))\n",
    "    #x = odeint(odes,initcond,t)\n",
    "    x = myfunc1(initcond,t)\n",
    "    c = x[:,1]\n",
    "    for i in range(len(t)):\n",
    "        for j in range(len(expt)):\n",
    "            if t[i] <= expt[j]+0.1 or t[i] <= expt[j]-0.1:\n",
    "                odecs[j] = c[i]\n",
    "    \n",
    "    #Defining the obtained ODE values at corresponding points from the data to obtain errors\n",
    "    \n",
    "    cerr = odecs-expc\n",
    "    return np.sqrt(np.sum(cerr)**2/20)\n",
    "\n",
    "ansc = RMSEc(parameters)\n",
    "print(ansc)"
   ]
  },
  {
   "cell_type": "code",
   "execution_count": 26,
   "id": "49c56721",
   "metadata": {},
   "outputs": [
    {
     "data": {
      "text/plain": [
       "<matplotlib.legend.Legend at 0x25f1d45ae20>"
      ]
     },
     "execution_count": 26,
     "metadata": {},
     "output_type": "execute_result"
    },
    {
     "data": {
      "image/png": "[encoded data removed]",
      "text/plain": [
       "<Figure size 432x288 with 1 Axes>"
      ]
     },
     "metadata": {
      "needs_background": "light"
     },
     "output_type": "display_data"
    }
   ],
   "source": [
    "x=myfunc1(initcond,t)\n",
    "N=x[:,0]\n",
    "c=x[:,1]\n",
    "plt.plot(t,N,'r')\n",
    "plt.plot(t,c,'b')\n",
    "plt.plot(expt,expN,'ro')\n",
    "plt.plot(expt,expc,'bo')\n",
    "plt.legend(['N','c'])"
   ]
  },
  {
   "cell_type": "markdown",
   "id": "efa34054",
   "metadata": {
    "id": "abdce4be"
   },
   "source": [
    "# Use minimize to estimate parameters.\n",
    "- Test the accuracy of the fit by plotting, on one figure, the data for N and c and the fitted ODE's N and c responses.\n",
    "    - Clearly label the data and fitted trajectories.\n",
    "- If the figure shows that the fit is not good or if minimize fails to converge, try a new initial guess.\n",
    "- Once your have your best answer, **go to our Canvas Quizzes** and submit your estimates. The quiz will  let you know if you're correct or not ;)\n",
    "    - You can submit up to 5 guesses.\n",
    "    - You must keep the **code that generates each guess**. You can create extra code cells as needed.\n",
    "    - You will not lose points for wrong guesses. Do not resubmit the same numbers over and over. Try adjusting initial guesses to identify new possible solutions."
   ]
  },
  {
   "cell_type": "code",
   "execution_count": 27,
   "id": "f7212b01",
   "metadata": {
    "scrolled": false
   },
   "outputs": [
    {
     "name": "stdout",
     "output_type": "stream",
     "text": [
      "      fun: 88.80201838131524\n",
      " hess_inv: array([[1, 0, 0],\n",
      "       [0, 1, 0],\n",
      "       [0, 0, 1]])\n",
      "      jac: array([0., 0., 0.])\n",
      "  message: 'Optimization terminated successfully.'\n",
      "     nfev: 4\n",
      "      nit: 0\n",
      "     njev: 1\n",
      "   status: 0\n",
      "  success: True\n",
      "        x: array([ 0.001,  0.95 , -0.1  ])\n"
     ]
    }
   ],
   "source": [
    "solc = minimize(RMSEc,x0 = parameters)\n",
    "print(solc)"
   ]
  },
  {
   "cell_type": "code",
   "execution_count": 28,
   "id": "c88486a4",
   "metadata": {
    "scrolled": true
   },
   "outputs": [
    {
     "name": "stdout",
     "output_type": "stream",
     "text": [
      "      fun: 4.220488395710231\n",
      " hess_inv: array([[1, 0, 0],\n",
      "       [0, 1, 0],\n",
      "       [0, 0, 1]])\n",
      "      jac: array([0., 0., 0.])\n",
      "  message: 'Optimization terminated successfully.'\n",
      "     nfev: 4\n",
      "      nit: 0\n",
      "     njev: 1\n",
      "   status: 0\n",
      "  success: True\n",
      "        x: array([ 0.001,  0.95 , -0.1  ])\n"
     ]
    }
   ],
   "source": [
    "solN = minimize(RMSEN, x0 = parameters)\n",
    "print(solN)"
   ]
  },
  {
   "cell_type": "markdown",
   "id": "ae8ef69a",
   "metadata": {},
   "source": [
    "# Attempt 4"
   ]
  },
  {
   "cell_type": "code",
   "execution_count": 29,
   "id": "8bdd42b7",
   "metadata": {},
   "outputs": [],
   "source": [
    "parameters = [.1,0.96,-0.45]\n",
    "t=np.linspace(0,19,25)"
   ]
  },
  {
   "cell_type": "code",
   "execution_count": 30,
   "id": "8bbd6338",
   "metadata": {
    "id": "f64b1aa0"
   },
   "outputs": [
    {
     "data": {
      "text/plain": [
       "Text(0.5, 1.0, 'Experimental Data for Bacteria Mass and \\n Nutrient Concentration as a Function of Time')"
      ]
     },
     "execution_count": 30,
     "metadata": {},
     "output_type": "execute_result"
    },
    {
     "data": {
      "image/png": "[encoded data removed]",
      "text/plain": [
       "<Figure size 432x288 with 1 Axes>"
      ]
     },
     "metadata": {
      "needs_background": "light"
     },
     "output_type": "display_data"
    }
   ],
   "source": [
    "file_dat = pd.read_csv('Homework 3 training data.csv')\n",
    "dfdat = pd.DataFrame(file_dat)\n",
    "dat = pd.DataFrame.to_numpy(dfdat)\n",
    "\n",
    "Q = 1. #L/h\n",
    "V = 1. #L\n",
    "q = Q/V #h^-1\n",
    "\n",
    "\n",
    "expt = dat[:,0]\n",
    "expN = dat[:,1]\n",
    "expc = dat[:,2]\n",
    "c0 = expc[0]\n",
    "N0 = expN[0]\n",
    "\n",
    "\n",
    "plt.plot(expt,expN,'ro',expc,'bo')\n",
    "plt.xlabel('Time')\n",
    "plt.ylabel('Data Result')\n",
    "plt.legend(['N = mass of bacteria','c = concentration of nutrients'])\n",
    "plt.title('Experimental Data for Bacteria Mass and \\n Nutrient Concentration as a Function of Time')"
   ]
  },
  {
   "cell_type": "markdown",
   "id": "84bcdf9c",
   "metadata": {
    "id": "07b8edbf"
   },
   "source": [
    "# Below, write the functions needed to define the RMSE.\n",
    "\n",
    "- Be sure to test some values to ensure it runs.\n"
   ]
  },
  {
   "cell_type": "code",
   "execution_count": 31,
   "id": "b36ef615",
   "metadata": {
    "id": "8793e622",
    "scrolled": true
   },
   "outputs": [],
   "source": [
    "#Setting up ODE functions\n",
    "from scipy.integrate import solve_ivp\n",
    "from scipy.integrate import odeint\n",
    "from scipy.optimize import minimize\n",
    "1\n",
    "def odes(x,t):\n",
    "    q = 1\n",
    "    c0 = 0.49\n",
    "    Km, Rmax, y = parameters\n",
    "    #Km,Rmax,y = [1,1,1]\n",
    "    N = x[0]\n",
    "    c = x[1]\n",
    "    \n",
    "    r = Rmax*c/(Km+c)    \n",
    "    dNdt = r*N-q*N\n",
    "    dcdt = q*(c0-c)-y**(-1)*r*N\n",
    "    return [dNdt,dcdt]\n",
    "\n",
    "initcond = [N0,c0]"
   ]
  },
  {
   "cell_type": "code",
   "execution_count": 32,
   "id": "d8c3b307",
   "metadata": {},
   "outputs": [],
   "source": [
    "def myfunc1(initcond,t):\n",
    "    x = odeint(odes,initcond,t)\n",
    "    return x"
   ]
  },
  {
   "cell_type": "code",
   "execution_count": 33,
   "id": "50873c96",
   "metadata": {},
   "outputs": [
    {
     "name": "stdout",
     "output_type": "stream",
     "text": [
      "3.557206655189493\n"
     ]
    }
   ],
   "source": [
    "def RMSEN(parameters):\n",
    "    odeNs=np.zeros(len(expt))\n",
    "#    odecs=np.zeros(len(expt))\n",
    "    #x = odeint(odes,initcond,t)\n",
    "    x = myfunc1(initcond,t)\n",
    "    N = x[:,0]\n",
    "\n",
    "    \n",
    "    for i in range(len(t)):\n",
    "        for j in range(len(expt)):\n",
    "            if t[i] <= expt[j]+0.1 or t[i] <= expt[j]-0.1:\n",
    "                odeNs[j] = N[i]\n",
    "\n",
    "    \n",
    "    #Defining the obtained ODE values at corresponding points from the data to obtain errors\n",
    "    \n",
    "    Nerr = expN-odeNs\n",
    "    return np.sqrt(np.sum(Nerr)**2/20)#,np.sqrt(np.sum(cerr)**2/20)]\n",
    "\n",
    "ansN = RMSEN(parameters)\n",
    "print(ansN)"
   ]
  },
  {
   "cell_type": "code",
   "execution_count": 34,
   "id": "f050518e",
   "metadata": {},
   "outputs": [
    {
     "name": "stdout",
     "output_type": "stream",
     "text": [
      "5.972628948936863\n"
     ]
    }
   ],
   "source": [
    "def RMSEc(parameters):\n",
    "    odecs=np.zeros(len(expt))\n",
    "    #x = odeint(odes,initcond,t)\n",
    "    x = myfunc1(initcond,t)\n",
    "    c = x[:,1]\n",
    "    for i in range(len(t)):\n",
    "        for j in range(len(expt)):\n",
    "            if t[i] <= expt[j]+0.1 or t[i] <= expt[j]-0.1:\n",
    "                odecs[j] = c[i]\n",
    "    \n",
    "    #Defining the obtained ODE values at corresponding points from the data to obtain errors\n",
    "    \n",
    "    cerr = odecs-expc\n",
    "    return np.sqrt(np.sum(cerr)**2/20)\n",
    "\n",
    "ansc = RMSEc(parameters)\n",
    "print(ansc)"
   ]
  },
  {
   "cell_type": "code",
   "execution_count": 35,
   "id": "d5c989ba",
   "metadata": {},
   "outputs": [
    {
     "data": {
      "text/plain": [
       "<matplotlib.legend.Legend at 0x25f1d56d700>"
      ]
     },
     "execution_count": 35,
     "metadata": {},
     "output_type": "execute_result"
    },
    {
     "data": {
      "image/png": "[encoded data removed]",
      "text/plain": [
       "<Figure size 432x288 with 1 Axes>"
      ]
     },
     "metadata": {
      "needs_background": "light"
     },
     "output_type": "display_data"
    }
   ],
   "source": [
    "x=myfunc1(initcond,t)\n",
    "N=x[:,0]\n",
    "c=x[:,1]\n",
    "plt.plot(t,N,'r')\n",
    "plt.plot(t,c,'b')\n",
    "plt.plot(expt,expN,'ro')\n",
    "plt.plot(expt,expc,'bo')\n",
    "plt.legend(['N','c'])"
   ]
  },
  {
   "cell_type": "markdown",
   "id": "3f5b8e8c",
   "metadata": {
    "id": "abdce4be"
   },
   "source": [
    "# Use minimize to estimate parameters.\n",
    "- Test the accuracy of the fit by plotting, on one figure, the data for N and c and the fitted ODE's N and c responses.\n",
    "    - Clearly label the data and fitted trajectories.\n",
    "- If the figure shows that the fit is not good or if minimize fails to converge, try a new initial guess.\n",
    "- Once your have your best answer, **go to our Canvas Quizzes** and submit your estimates. The quiz will  let you know if you're correct or not ;)\n",
    "    - You can submit up to 5 guesses.\n",
    "    - You must keep the **code that generates each guess**. You can create extra code cells as needed.\n",
    "    - You will not lose points for wrong guesses. Do not resubmit the same numbers over and over. Try adjusting initial guesses to identify new possible solutions."
   ]
  },
  {
   "cell_type": "code",
   "execution_count": 36,
   "id": "4952ec5d",
   "metadata": {
    "scrolled": false
   },
   "outputs": [
    {
     "name": "stdout",
     "output_type": "stream",
     "text": [
      "      fun: 5.972628948936863\n",
      " hess_inv: array([[1, 0, 0],\n",
      "       [0, 1, 0],\n",
      "       [0, 0, 1]])\n",
      "      jac: array([0., 0., 0.])\n",
      "  message: 'Optimization terminated successfully.'\n",
      "     nfev: 4\n",
      "      nit: 0\n",
      "     njev: 1\n",
      "   status: 0\n",
      "  success: True\n",
      "        x: array([ 0.1 ,  0.96, -0.45])\n"
     ]
    }
   ],
   "source": [
    "solc = minimize(RMSEc,x0 = parameters)\n",
    "print(solc)"
   ]
  },
  {
   "cell_type": "code",
   "execution_count": 37,
   "id": "2fc5d5b1",
   "metadata": {
    "scrolled": true
   },
   "outputs": [
    {
     "name": "stdout",
     "output_type": "stream",
     "text": [
      "      fun: 3.557206655189493\n",
      " hess_inv: array([[1, 0, 0],\n",
      "       [0, 1, 0],\n",
      "       [0, 0, 1]])\n",
      "      jac: array([0., 0., 0.])\n",
      "  message: 'Optimization terminated successfully.'\n",
      "     nfev: 4\n",
      "      nit: 0\n",
      "     njev: 1\n",
      "   status: 0\n",
      "  success: True\n",
      "        x: array([ 0.1 ,  0.96, -0.45])\n"
     ]
    }
   ],
   "source": [
    "solN = minimize(RMSEN, x0 = parameters)\n",
    "print(solN)"
   ]
  },
  {
   "cell_type": "markdown",
   "id": "f425b8be",
   "metadata": {},
   "source": [
    "# Attempt 5"
   ]
  },
  {
   "cell_type": "code",
   "execution_count": 38,
   "id": "2d7312ef",
   "metadata": {},
   "outputs": [],
   "source": [
    "parameters = [.1,0.99,-0.7]\n",
    "t=np.linspace(0,19,25)"
   ]
  },
  {
   "cell_type": "code",
   "execution_count": 39,
   "id": "69463250",
   "metadata": {
    "id": "f64b1aa0"
   },
   "outputs": [
    {
     "data": {
      "text/plain": [
       "Text(0.5, 1.0, 'Experimental Data for Bacteria Mass and \\n Nutrient Concentration as a Function of Time')"
      ]
     },
     "execution_count": 39,
     "metadata": {},
     "output_type": "execute_result"
    },
    {
     "data": {
      "image/png": "[encoded data removed]",
      "text/plain": [
       "<Figure size 432x288 with 1 Axes>"
      ]
     },
     "metadata": {
      "needs_background": "light"
     },
     "output_type": "display_data"
    }
   ],
   "source": [
    "file_dat = pd.read_csv('Homework 3 training data.csv')\n",
    "dfdat = pd.DataFrame(file_dat)\n",
    "dat = pd.DataFrame.to_numpy(dfdat)\n",
    "\n",
    "Q = 1. #L/h\n",
    "V = 1. #L\n",
    "q = Q/V #h^-1\n",
    "\n",
    "\n",
    "expt = dat[:,0]\n",
    "expN = dat[:,1]\n",
    "expc = dat[:,2]\n",
    "c0 = expc[0]\n",
    "N0 = expN[0]\n",
    "\n",
    "\n",
    "plt.plot(expt,expN,'ro',expc,'bo')\n",
    "plt.xlabel('Time')\n",
    "plt.ylabel('Data Result')\n",
    "plt.legend(['N = mass of bacteria','c = concentration of nutrients'])\n",
    "plt.title('Experimental Data for Bacteria Mass and \\n Nutrient Concentration as a Function of Time')"
   ]
  },
  {
   "cell_type": "markdown",
   "id": "0ca48d86",
   "metadata": {
    "id": "07b8edbf"
   },
   "source": [
    "# Below, write the functions needed to define the RMSE.\n",
    "\n",
    "- Be sure to test some values to ensure it runs.\n"
   ]
  },
  {
   "cell_type": "code",
   "execution_count": 40,
   "id": "94c80a01",
   "metadata": {
    "id": "8793e622",
    "scrolled": true
   },
   "outputs": [],
   "source": [
    "#Setting up ODE functions\n",
    "from scipy.integrate import solve_ivp\n",
    "from scipy.integrate import odeint\n",
    "from scipy.optimize import minimize\n",
    "1\n",
    "def odes(x,t):\n",
    "    q = 1\n",
    "    c0 = 0.49\n",
    "    Km, Rmax, y = parameters\n",
    "    #Km,Rmax,y = [1,1,1]\n",
    "    N = x[0]\n",
    "    c = x[1]\n",
    "    \n",
    "    r = Rmax*c/(Km+c)    \n",
    "    dNdt = r*N-q*N\n",
    "    dcdt = q*(c0-c)-y**(-1)*r*N\n",
    "    return [dNdt,dcdt]\n",
    "\n",
    "initcond = [N0,c0]"
   ]
  },
  {
   "cell_type": "code",
   "execution_count": 41,
   "id": "82155284",
   "metadata": {},
   "outputs": [],
   "source": [
    "def myfunc1(initcond,t):\n",
    "    x = odeint(odes,initcond,t)\n",
    "    return x"
   ]
  },
  {
   "cell_type": "code",
   "execution_count": 42,
   "id": "ea1f5564",
   "metadata": {},
   "outputs": [
    {
     "name": "stdout",
     "output_type": "stream",
     "text": [
      "5.948016100756563\n"
     ]
    }
   ],
   "source": [
    "def RMSEN(parameters):\n",
    "    odeNs=np.zeros(len(expt))\n",
    "#    odecs=np.zeros(len(expt))\n",
    "    #x = odeint(odes,initcond,t)\n",
    "    x = myfunc1(initcond,t)\n",
    "    N = x[:,0]\n",
    "\n",
    "    \n",
    "    for i in range(len(t)):\n",
    "        for j in range(len(expt)):\n",
    "            if t[i] <= expt[j]+0.1 or t[i] <= expt[j]-0.1:\n",
    "                odeNs[j] = N[i]\n",
    "\n",
    "    \n",
    "    #Defining the obtained ODE values at corresponding points from the data to obtain errors\n",
    "    \n",
    "    Nerr = expN-odeNs\n",
    "    return np.sqrt(np.sum(Nerr)**2/20)#,np.sqrt(np.sum(cerr)**2/20)]\n",
    "\n",
    "ansN = RMSEN(parameters)\n",
    "print(ansN)"
   ]
  },
  {
   "cell_type": "code",
   "execution_count": 43,
   "id": "e3dac874",
   "metadata": {},
   "outputs": [
    {
     "name": "stdout",
     "output_type": "stream",
     "text": [
      "1.6129105909031591\n"
     ]
    }
   ],
   "source": [
    "def RMSEc(parameters):\n",
    "    odecs=np.zeros(len(expt))\n",
    "    #x = odeint(odes,initcond,t)\n",
    "    x = myfunc1(initcond,t)\n",
    "    c = x[:,1]\n",
    "    for i in range(len(t)):\n",
    "        for j in range(len(expt)):\n",
    "            if t[i] <= expt[j]+0.1 or t[i] <= expt[j]-0.1:\n",
    "                odecs[j] = c[i]\n",
    "    \n",
    "    #Defining the obtained ODE values at corresponding points from the data to obtain errors\n",
    "    \n",
    "    cerr = odecs-expc\n",
    "    return np.sqrt(np.sum(cerr)**2/20)\n",
    "\n",
    "ansc = RMSEc(parameters)\n",
    "print(ansc)"
   ]
  },
  {
   "cell_type": "code",
   "execution_count": 44,
   "id": "a540eeef",
   "metadata": {},
   "outputs": [
    {
     "data": {
      "text/plain": [
       "<matplotlib.legend.Legend at 0x25f1d67f4c0>"
      ]
     },
     "execution_count": 44,
     "metadata": {},
     "output_type": "execute_result"
    },
    {
     "data": {
      "image/png": "[encoded data removed]",
      "text/plain": [
       "<Figure size 432x288 with 1 Axes>"
      ]
     },
     "metadata": {
      "needs_background": "light"
     },
     "output_type": "display_data"
    }
   ],
   "source": [
    "x=myfunc1(initcond,t)\n",
    "N=x[:,0]\n",
    "c=x[:,1]\n",
    "plt.plot(t,N,'r')\n",
    "plt.plot(t,c,'b')\n",
    "plt.plot(expt,expN,'ro')\n",
    "plt.plot(expt,expc,'bo')\n",
    "plt.legend(['N','c'])"
   ]
  },
  {
   "cell_type": "markdown",
   "id": "5c0d75de",
   "metadata": {
    "id": "abdce4be"
   },
   "source": [
    "# Use minimize to estimate parameters.\n",
    "- Test the accuracy of the fit by plotting, on one figure, the data for N and c and the fitted ODE's N and c responses.\n",
    "    - Clearly label the data and fitted trajectories.\n",
    "- If the figure shows that the fit is not good or if minimize fails to converge, try a new initial guess.\n",
    "- Once your have your best answer, **go to our Canvas Quizzes** and submit your estimates. The quiz will  let you know if you're correct or not ;)\n",
    "    - You can submit up to 5 guesses.\n",
    "    - You must keep the **code that generates each guess**. You can create extra code cells as needed.\n",
    "    - You will not lose points for wrong guesses. Do not resubmit the same numbers over and over. Try adjusting initial guesses to identify new possible solutions."
   ]
  },
  {
   "cell_type": "code",
   "execution_count": 45,
   "id": "a2386a91",
   "metadata": {
    "scrolled": false
   },
   "outputs": [
    {
     "name": "stdout",
     "output_type": "stream",
     "text": [
      "      fun: 1.6129105909031591\n",
      " hess_inv: array([[1, 0, 0],\n",
      "       [0, 1, 0],\n",
      "       [0, 0, 1]])\n",
      "      jac: array([0., 0., 0.])\n",
      "  message: 'Optimization terminated successfully.'\n",
      "     nfev: 4\n",
      "      nit: 0\n",
      "     njev: 1\n",
      "   status: 0\n",
      "  success: True\n",
      "        x: array([ 0.1 ,  0.99, -0.7 ])\n"
     ]
    }
   ],
   "source": [
    "solc = minimize(RMSEc,x0 = parameters)\n",
    "print(solc)"
   ]
  },
  {
   "cell_type": "code",
   "execution_count": 46,
   "id": "bb094f89",
   "metadata": {
    "scrolled": false
   },
   "outputs": [
    {
     "name": "stdout",
     "output_type": "stream",
     "text": [
      "      fun: 5.948016100756563\n",
      " hess_inv: array([[1, 0, 0],\n",
      "       [0, 1, 0],\n",
      "       [0, 0, 1]])\n",
      "      jac: array([0., 0., 0.])\n",
      "  message: 'Optimization terminated successfully.'\n",
      "     nfev: 4\n",
      "      nit: 0\n",
      "     njev: 1\n",
      "   status: 0\n",
      "  success: True\n",
      "        x: array([ 0.1 ,  0.99, -0.7 ])\n"
     ]
    }
   ],
   "source": [
    "solN = minimize(RMSEN, x0 = parameters)\n",
    "print(solN)"
   ]
  },
  {
   "cell_type": "markdown",
   "id": "f960f7ef",
   "metadata": {},
   "source": [
    "### Unfortunately, I was not able to achieve a reliable convergence in any of my attempts. For some reason that I was unable to solve, the package attempted a very low number of iterations before stopping each time. Because of this, the package was not able to estimate an accurate answer for my parameters."
   ]
  }
 ],
 "metadata": {
  "celltoolbar": "Slideshow",
  "colab": {
   "collapsed_sections": [],
   "provenance": []
  },
  "kernelspec": {
   "display_name": "Python 3 (ipykernel)",
   "language": "python",
   "name": "python3"
  },
  "language_info": {
   "codemirror_mode": {
    "name": "ipython",
    "version": 3
   },
   "file_extension": ".py",
   "mimetype": "text/x-python",
   "name": "python",
   "nbconvert_exporter": "python",
   "pygments_lexer": "ipython3",
   "version": "3.9.7"
  }
 },
 "nbformat": 4,
 "nbformat_minor": 5
}
