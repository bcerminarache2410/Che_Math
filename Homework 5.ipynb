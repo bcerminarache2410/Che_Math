{
 "cells": [
  {
   "cell_type": "markdown",
   "id": "78d343fd",
   "metadata": {},
   "source": [
    "# Problem 1: Null distributions of a one-sample vs two sample t\n",
    "\n",
    "We've spent a lot of time discussing the \"null distribution\".\n",
    "- The null hypothesis for a 1 sample t test is that the mean of the normal population our data comes from is equal to our hypothesized mean, $\\mu$. Therefore, the null distribution is the distribution of t values we expect to observe if we randomly sample from a normal population that has a mean equal to our hypothesized mean, $\\mu$.\n",
    "- The null hypothesis for a 2 sample t test can be more nuanced, depending on the assumptions we make about each samples standard deviations. Here, we will consider the independent, equal sample size, equal variance two-sample t test.\n",
    "\n",
    "## Confirm we can calculate t correctly\n",
    "\n",
    "Let's start by firsting making sure we can calculate t correctly. For this problem, let's use the heights of players (in centimeters) randomly selected from the LA Lakers and Boston Celtics rosters:\n",
    "\n",
    "Lakers = [200, 210, 220,225,215];\n",
    "\n",
    "Heat = [190, 220, 193, 200, 190];\n",
    "\n",
    "In the space below, calculate the 1 sample t value for the Lakers, assuming their average height is 195 cm, and the two-sample t value for this data. Confirm your answers using ttest_1samp and ttest_ind. Be sure to **note** the technicality discussion on the last slide of Lecture 11."
   ]
  },
  {
   "cell_type": "code",
   "execution_count": 1,
   "id": "6e6705dc",
   "metadata": {},
   "outputs": [],
   "source": [
    "import numpy as np\n",
    "import scipy\n",
    "import matplotlib as mpl\n",
    "from matplotlib import pyplot as plt\n",
    "from scipy import stats\n",
    "import random"
   ]
  },
  {
   "cell_type": "code",
   "execution_count": 2,
   "id": "7f0a9852",
   "metadata": {},
   "outputs": [
    {
     "name": "stdout",
     "output_type": "stream",
     "text": [
      "My calculated one-sided t value for the lakers sample is -1.9755259306581383\n",
      "My calculated two-sided t value is 2.167939197635687\n"
     ]
    }
   ],
   "source": [
    "mu = 195.\n",
    "lakers = [200, 210, 220,225,215]\n",
    "heat = [190, 220, 193, 200, 190]\n",
    "\n",
    "slake = np.std(lakers,ddof=1)\n",
    "sheat = np.std(heat,ddof=1)\n",
    "avel = np.sum(lakers)/len(lakers)\n",
    "aveh = np.sum(heat)/len(heat)\n",
    "\n",
    "tlake1 = (mu-avel)/slake\n",
    "\n",
    "#Two sided data\n",
    "sp = np.sqrt((slake**2+sheat**2)/2)\n",
    "t2 = (avel-aveh)/(sp*np.sqrt(2/len(lakers)))\n",
    "\n",
    "print('My calculated one-sided t value for the lakers sample is', tlake1)\n",
    "print('My calculated two-sided t value is', t2)"
   ]
  },
  {
   "cell_type": "code",
   "execution_count": 3,
   "id": "3ff6ab42",
   "metadata": {},
   "outputs": [
    {
     "name": "stdout",
     "output_type": "stream",
     "text": [
      "Ttest_1sampResult(statistic=4.4174102722651325, pvalue=0.011534048799787354)\n",
      "Ttest_indResult(statistic=2.167939197635687, pvalue=0.06201738353641719)\n"
     ]
    }
   ],
   "source": [
    "#Scipy Function Confirmation\n",
    "print(scipy.stats.ttest_1samp(lakers,mu))\n",
    "print(scipy.stats.ttest_ind(lakers,heat,alternative='two-sided'))"
   ]
  },
  {
   "cell_type": "markdown",
   "id": "4c601190",
   "metadata": {},
   "source": [
    "There is likely some discrepency in the ttest_1samp result from my answer because the 1samp function uses the corrected sample standard deviation."
   ]
  },
  {
   "cell_type": "markdown",
   "id": "a2a25437",
   "metadata": {},
   "source": [
    "## Compare t distributions for 1 and 2 sample tests\n",
    "\n",
    "- In the space below, write the code necessary to create null distributions for single and two-sample t tests when:\n",
    "    - For the single sample t test, you are collecting 9 samples\n",
    "    - For the two sample t test, you are collected 5 samples for each group.\n",
    "- Produce density plots to compare the two distributions.\n",
    "    - Be sure to select enough samples and to adjust bins sizes as needed so that the density plots are clear and stable (meaning each time you run it, you basically get the same answer).\n",
    "    - Can use density feature of plt.hist or Seaborn's  sns function.\n",
    "    - On the figure, clearly indicate the degrees of freedom for the specific t test\n",
    "    - Unclear figures will not receive credit.\n"
   ]
  },
  {
   "cell_type": "code",
   "execution_count": 4,
   "id": "600a5a3d",
   "metadata": {},
   "outputs": [],
   "source": [
    "#Using code from class 4:\n",
    "mu1 = 195\n",
    "sigma = 10\n",
    "norm_data=np.random.normal(mu,sigma,50000)\n",
    "n=0\n",
    "\n",
    "t1 = np.zeros(1000)\n",
    "t2 = np.zeros(1000)\n",
    "\n",
    "\n",
    "while n<1000:\n",
    "    sam1 = random.sample(list(norm_data),9)\n",
    "    sam2 = random.sample(list(norm_data),5)\n",
    "    sam3 = random.sample(list(norm_data),5)\n",
    "    xbar1 = np.sum(sam1)/len(sam1)\n",
    "    xbar2 = np.sum(sam2)/len(sam2)\n",
    "    xbar3 = np.sum(sam3)/len(sam3)\n",
    "    s1 = np.std(sam1,ddof=1)\n",
    "    s2 = np.std(sam2,ddof=1)\n",
    "    s3 = np.std(sam3,ddof=1)\n",
    "    \n",
    "    sp = np.sqrt((s2**2+s3**2)/2)\n",
    "    \n",
    "    t1[n] = (xbar1-mu1)/s1\n",
    "    t2[n] = (xbar2-xbar3)/(sp*np.sqrt(2/5))\n",
    "    \n",
    "    n=n+1\n",
    "    \n"
   ]
  },
  {
   "cell_type": "code",
   "execution_count": 5,
   "id": "d0ed97f1",
   "metadata": {},
   "outputs": [
    {
     "data": {
      "image/png": "[encoded data removed]",
      "text/plain": [
       "<Figure size 432x288 with 1 Axes>"
      ]
     },
     "metadata": {
      "needs_background": "light"
     },
     "output_type": "display_data"
    }
   ],
   "source": [
    "plt.hist(t1,density = True, bins = 50);\n",
    "plt.title('Single Sample t distribution, DF = n-1 = 8')\n",
    "plt.ylabel('Density');\n",
    "plt.xlabel('t');"
   ]
  },
  {
   "cell_type": "code",
   "execution_count": 6,
   "id": "65d5fdbc",
   "metadata": {},
   "outputs": [
    {
     "data": {
      "image/png": "[encoded data removed]",
      "text/plain": [
       "<Figure size 432x288 with 1 Axes>"
      ]
     },
     "metadata": {
      "needs_background": "light"
     },
     "output_type": "display_data"
    }
   ],
   "source": [
    "plt.hist(t2,density = True, bins = 50);\n",
    "plt.title('Two-Sample t distribution, DF = 2n-2 = 8')\n",
    "plt.ylabel('Density');\n",
    "plt.xlabel('t');"
   ]
  },
  {
   "cell_type": "markdown",
   "id": "9551881e",
   "metadata": {},
   "source": [
    "Based on your figure(s) above, how do the two distributions compare? **Comment here:**\n",
    "\n",
    "The single-value test has a density peak above 1.0 while the two-sample t test has a density peak below 0.5. The degrees of freedom end up being equivalent in each scenario based on sample sizes. The distribution of the two sample test is spread out over a larger range of t's (-4 to 4) while the single sample t test is distributed between -1 and 1 mostly."
   ]
  },
  {
   "cell_type": "markdown",
   "id": "22bd83ed",
   "metadata": {},
   "source": [
    "## Compute p value for two-sample t test\n",
    "- Using your null t distribution for your two sample t test, what is the likelihood that the heights of the Lakers and Heat come from populations with the same means?\n",
    "- Check your answer using ttest_ind"
   ]
  },
  {
   "cell_type": "code",
   "execution_count": 7,
   "id": "f59d1e0d",
   "metadata": {},
   "outputs": [
    {
     "name": "stdout",
     "output_type": "stream",
     "text": [
      "Ttest_indResult(statistic=2.167939197635687, pvalue=0.06201738353641719)\n"
     ]
    }
   ],
   "source": [
    "print(scipy.stats.ttest_ind(lakers,heat,alternative='two-sided'))"
   ]
  },
  {
   "cell_type": "markdown",
   "id": "befb3b6a",
   "metadata": {},
   "source": [
    "The above result indicates that the likelihood that these two team samples came from a population with the same mean is very low. A p-value of 0.06 indicates that the chances of achieving the same mean if ouor null hypothesis were true are slim."
   ]
  },
  {
   "cell_type": "markdown",
   "id": "1bb9c720",
   "metadata": {},
   "source": [
    "# Problem 2 Changing our data's distributions\n",
    "\n",
    "As we've seen, we typically must assume that our data comes from a normal distribution. Let's use our brute force approach to determine how changing that assumption impacts our null t distributions.\n",
    "\n",
    "- Below, create the null t distributions for a single-sample t test for n = 3, 8 and 30 when sampling from a normal distribution and a uniform distribution. \n",
    "- For each case, plot the density plots such that you can compare the distributions that result from sampling the normally and uniformally distributed data.\n",
    "- Clearly label all figures."
   ]
  },
  {
   "cell_type": "markdown",
   "id": "dcad9af7",
   "metadata": {},
   "source": [
    "## Normal Distribution"
   ]
  },
  {
   "cell_type": "code",
   "execution_count": 8,
   "id": "76473f53",
   "metadata": {},
   "outputs": [],
   "source": [
    "norm_data2=np.random.normal(mu1,sigma,50000)\n",
    "t4=np.zeros(1000)\n",
    "t5=np.zeros(1000)\n",
    "t6=np.zeros(1000)\n",
    "n=0\n",
    "\n",
    "while n<1000:\n",
    "    sam4 = random.sample(list(norm_data2),3)\n",
    "    sam5 = random.sample(list(norm_data2),8)\n",
    "    sam6 = random.sample(list(norm_data2),30)\n",
    "    xbar4=np.sum(sam4)/len(sam4)\n",
    "    s4=np.std(sam4,ddof=1)\n",
    "    xbar5=np.sum(sam5)/len(sam5)\n",
    "    s5=np.std(sam5,ddof=1)\n",
    "    xbar6=np.sum(sam6)/len(sam6)\n",
    "    s6=np.std(sam6,ddof=1)\n",
    "    t4[n] = (xbar4-mu1)/s4\n",
    "    t5[n] = (xbar5-mu1)/s5\n",
    "    t6[n] = (xbar6-mu1)/s6\n",
    "    n=n+1\n",
    "    \n"
   ]
  },
  {
   "cell_type": "code",
   "execution_count": 18,
   "id": "15fef1fd",
   "metadata": {},
   "outputs": [
    {
     "data": {
      "image/png": "[encoded data removed]",
      "text/plain": [
       "<Figure size 432x288 with 1 Axes>"
      ]
     },
     "metadata": {
      "needs_background": "light"
     },
     "output_type": "display_data"
    }
   ],
   "source": [
    "#Plotting the data for a sampple size of n=3\n",
    "plt.hist(t4,density = True, bins = 100);\n",
    "plt.title('Single-Sample t distribution for group 1, DF = n-1 = 2\\nNormally Distributed Population')\n",
    "plt.ylabel('Density');\n",
    "plt.xlabel('t of group 1');\n",
    "plt.xlim([-5,5]);"
   ]
  },
  {
   "cell_type": "markdown",
   "id": "d4910ca6",
   "metadata": {},
   "source": [
    "**Comment here** on how changing distributions from which our data is collected impacts the null t distribution."
   ]
  },
  {
   "cell_type": "code",
   "execution_count": 19,
   "id": "c6f8aa20",
   "metadata": {},
   "outputs": [
    {
     "data": {
      "image/png": "[encoded data removed]",
      "text/plain": [
       "<Figure size 432x288 with 1 Axes>"
      ]
     },
     "metadata": {
      "needs_background": "light"
     },
     "output_type": "display_data"
    }
   ],
   "source": [
    "#Plotting the data for a sampple size of n=8\n",
    "plt.hist(t5,density = True, bins = 100);\n",
    "plt.title('Single-Sample t distribution for group 2, DF = n-1 = 7\\nNormally Distributed Population')\n",
    "plt.ylabel('Density');\n",
    "plt.xlabel('t of group 2');\n",
    "plt.xlim([-5,5]);"
   ]
  },
  {
   "cell_type": "code",
   "execution_count": 20,
   "id": "96a6c5dd",
   "metadata": {
    "scrolled": true
   },
   "outputs": [
    {
     "data": {
      "image/png": "[encoded data removed]",
      "text/plain": [
       "<Figure size 432x288 with 1 Axes>"
      ]
     },
     "metadata": {
      "needs_background": "light"
     },
     "output_type": "display_data"
    }
   ],
   "source": [
    "#Plotting the data for a sampple size of n=30\n",
    "plt.hist(t6,density = True, bins = 100);\n",
    "plt.title('Single-Sample t distribution for group 3, DF = n-1 = 29\\nNormally Distributed Population')\n",
    "plt.ylabel('Density');\n",
    "plt.xlabel('t of group 3');\n",
    "plt.xlim([-5,5]);"
   ]
  },
  {
   "cell_type": "markdown",
   "id": "25b8de48",
   "metadata": {},
   "source": [
    "## Uniform Distribution"
   ]
  },
  {
   "cell_type": "code",
   "execution_count": 22,
   "id": "3e98304e",
   "metadata": {},
   "outputs": [],
   "source": [
    "norm_data3=np.random.uniform(mu1,sigma,50000)\n",
    "t7=np.zeros(1000)\n",
    "t8=np.zeros(1000)\n",
    "t9=np.zeros(1000)\n",
    "n=0\n",
    "\n",
    "while n<1000:\n",
    "    sam7 = random.sample(list(norm_data3),3)\n",
    "    sam8 = random.sample(list(norm_data3),8)\n",
    "    sam9 = random.sample(list(norm_data3),30)\n",
    "    xbar7=np.sum(sam7)/len(sam7)\n",
    "    s7=np.std(sam7,ddof=1)\n",
    "    xbar8=np.sum(sam8)/len(sam8)\n",
    "    s8=np.std(sam8,ddof=1)\n",
    "    xbar9=np.sum(sam9)/len(sam9)\n",
    "    s9=np.std(sam9,ddof=1)\n",
    "    t7[n] = (xbar7-mu1)/s7\n",
    "    t8[n] = (xbar8-mu1)/s8\n",
    "    t9[n] = (xbar9-mu1)/s9\n",
    "    n=n+1\n",
    "    \n"
   ]
  },
  {
   "cell_type": "code",
   "execution_count": 23,
   "id": "34e01da8",
   "metadata": {},
   "outputs": [
    {
     "data": {
      "image/png": "[encoded data removed]",
      "text/plain": [
       "<Figure size 432x288 with 1 Axes>"
      ]
     },
     "metadata": {
      "needs_background": "light"
     },
     "output_type": "display_data"
    }
   ],
   "source": [
    "#Plotting the data for a sample size of n=3\n",
    "plt.hist(t7,density = True, bins = 100);\n",
    "plt.title('Single-Sample t distribution for group 4, DF = n-1 = 2\\nUniformly Distributed Population')\n",
    "plt.ylabel('Density');\n",
    "plt.xlabel('t of group 4');\n",
    "plt.xlim([-5,5]);"
   ]
  },
  {
   "cell_type": "markdown",
   "id": "ff237e6f",
   "metadata": {},
   "source": [
    "**Comment here** on how changing distributions from which our data is collected impacts the null t distribution."
   ]
  },
  {
   "cell_type": "code",
   "execution_count": 27,
   "id": "957d337b",
   "metadata": {},
   "outputs": [
    {
     "data": {
      "image/png": "[encoded data removed]",
      "text/plain": [
       "<Figure size 432x288 with 1 Axes>"
      ]
     },
     "metadata": {
      "needs_background": "light"
     },
     "output_type": "display_data"
    }
   ],
   "source": [
    "#Plotting the data for a sampple size of n=8\n",
    "plt.hist(t8,density = True, bins = 100);\n",
    "plt.title('Single-Sample t distribution for group 5, DF = n-1 = 7\\nUniformly Distributed Population')\n",
    "plt.ylabel('Density');\n",
    "plt.xlabel('t of group 5');\n",
    "plt.xlim([-4,0]);"
   ]
  },
  {
   "cell_type": "code",
   "execution_count": 26,
   "id": "19aee7c9",
   "metadata": {
    "scrolled": false
   },
   "outputs": [
    {
     "data": {
      "image/png": "[encoded data removed]",
      "text/plain": [
       "<Figure size 432x288 with 1 Axes>"
      ]
     },
     "metadata": {
      "needs_background": "light"
     },
     "output_type": "display_data"
    }
   ],
   "source": [
    "#Plotting the data for a sampple size of n=30\n",
    "plt.hist(t9,density = True, bins = 100);\n",
    "plt.title('Single-Sample t distribution for group 6, DF = n-1 = 29\\nUniformly Distributed Population')\n",
    "plt.ylabel('Density');\n",
    "plt.xlabel('t of group 6');\n",
    "plt.xlim([-3,0]);"
   ]
  },
  {
   "cell_type": "markdown",
   "id": "13f9501e",
   "metadata": {},
   "source": [
    "When calculating the same statistics for a unform distribution, the plots still decrease their range. However, these t distributinos now are centered around negative t values rather than zero. As the sample size increases, the t distribution peak value appears to occur gradually closer to zero."
   ]
  },
  {
   "cell_type": "markdown",
   "id": "a8cf63c1",
   "metadata": {},
   "source": [
    "# Problem 3 U statistic (i.e. no distribution assumptions)\n",
    "\n",
    "One major concern is that we often know nothing about the data. We have no good reason to assume it is from a normal distribution. Instead, we have to use nonparametric statistical tools wherein we do not have to make any assumptions on whether our data comes from a specific population. One option is the U statistic from the Wilcoxon rank-sum test.\n",
    "\n",
    "The assumption here is that two independent samples were selected from populations having the same distribution, but we don't know what that distribution is.\n",
    "\n",
    "How to calculate U for small data sets (i.e. direct method)\n",
    "- U is the number of “wins” between two competing datasets\n",
    "- For each observation in one set, count the number of times this first value wins over any observations in the other set.\n",
    "- Count 0.5 for any ties\n",
    "- The sum of wins and ties is the U for that datasets\n",
    "- To keep our discussion simple, we will ignore the case of ties\n",
    "\n",
    "Here's a short example:\n",
    "- Jason and Mr. N are competing. Jason scores a 100, 55, and 50. Mr. N scores a 90, 80, 60.\n",
    "- Order the data by wins from highest to lowest and indicate who the score belongs to : J N N N J J\n",
    "- We can calculate the U for Jason (call it U1) by adding the number of wins for each J entry. Namely, the first J beats N 3 times while the second and third J have no wins. So we get U1 = 3 + 0 + 0.\n",
    "    - We can do the same calculation for Mr. N and get U2 = 2 + 2 + 2 = 6.\n",
    "- Now, all we need to interpret these numbers is our absolute favorite thing: **a null distribution!!**\n",
    "\n",
    "The null distribution for a U statistic is simply the score all of the **possible combinations of outcomes**. For example, if we only had two measurements for J and N, the possible combinations are:\n",
    "   - JJBB (U1 = 4)\n",
    "   - JBJB (U1 = 3)\n",
    "   - JBBJ (U1 = 2)\n",
    "   - BJBJ (U1 = 1)\n",
    "   - BBJJ (U1 = 0)\n",
    "   - BJJB (U1 = 2)\n",
    "\n",
    "A histogram of the U1's above would be our null distribution. \n",
    "\n",
    "In the space below, write the code to construct the null distribution of U1 for when 5 samples are collected for each group. Hint: look for packages that can identify all combinations of two vectors...\n"
   ]
  },
  {
   "cell_type": "code",
   "execution_count": 155,
   "id": "d0654d9f",
   "metadata": {},
   "outputs": [],
   "source": [
    "import itertools\n",
    "from itertools import permutations"
   ]
  },
  {
   "cell_type": "code",
   "execution_count": 199,
   "id": "7e4293ea",
   "metadata": {},
   "outputs": [],
   "source": [
    "a = [7,1,2,8,10]\n",
    "b = [4,5,6,9,11]\n",
    "combinedmeas = a+b\n",
    "\n",
    "myas = list(np.ones(len(a)))\n",
    "mybs = list(np.zeros(len(b)))\n",
    "myas.extend(mybs)"
   ]
  },
  {
   "cell_type": "code",
   "execution_count": 211,
   "id": "2bac8266",
   "metadata": {},
   "outputs": [],
   "source": [
    "permutations = list(itertools.permutations(myas))\n",
    "for i in range(len(permutations)):\n",
    "    permutations[i] = list(permutations[i])"
   ]
  },
  {
   "cell_type": "code",
   "execution_count": 248,
   "id": "93fc677d",
   "metadata": {},
   "outputs": [],
   "source": [
    "iscore=np.zeros(len(permutations))\n",
    "iteration = 0\n",
    "for i in range(len(permutations)):\n",
    "# for i in range(2):\n",
    "    counter = 0\n",
    "    n=0\n",
    "    for j in range(10):\n",
    "        if permutations[i][j] == 1.:\n",
    "            n = j+1\n",
    "            while n < 10:\n",
    "                if permutations[i][j] >= permutations[i][n]:\n",
    "                    counter += 1\n",
    "                    n+=1\n",
    "\n",
    "    iscore[iteration] = counter\n",
    "    iteration+=1\n",
    "\n",
    "\n",
    "#print(iscore)"
   ]
  },
  {
   "cell_type": "code",
   "execution_count": 243,
   "id": "47d89b68",
   "metadata": {},
   "outputs": [
    {
     "data": {
      "image/png": "[encoded data removed]",
      "text/plain": [
       "<Figure size 432x288 with 1 Axes>"
      ]
     },
     "metadata": {
      "needs_background": "light"
     },
     "output_type": "display_data"
    }
   ],
   "source": [
    "plt.hist(iscore,density = True, bins = 25);"
   ]
  },
  {
   "cell_type": "markdown",
   "id": "38135eb7",
   "metadata": {},
   "source": [
    "You collect two samples:\n",
    "\n",
    "a = (7,1,2,8,10)\n",
    "b = (4,5,6,9,11)\n",
    "\n",
    "Use your distribution to estimate the likelihood (two-sided p value) that a and b come from the same distributions.\n"
   ]
  },
  {
   "cell_type": "code",
   "execution_count": 258,
   "id": "797e3588",
   "metadata": {},
   "outputs": [
    {
     "name": "stdout",
     "output_type": "stream",
     "text": [
      "The p-value obtained when evaluating the continuous distribution function is: 0.80658421785117\n"
     ]
    }
   ],
   "source": [
    "#Stats of the normalized scores from above:\n",
    "umu=np.sum(iscore)/len(iscore)\n",
    "mysum=0\n",
    "for i in range(len(iscore)):\n",
    "    mysum += (iscore[i]-umu)**2\n",
    "    \n",
    "usigma = np.sqrt(mysum/len(iscore))\n",
    "\n",
    "xbara = np.sum(a)/len(a)\n",
    "sa=np.std(a,ddof=1)\n",
    "xbarb = np.sum(b)/len(b)\n",
    "sb=np.std(b,ddof=1)\n",
    "sed = np.sqrt(sa**2 + sa**2)\n",
    "myt = (xbara-xbarb)/sed\n",
    "df = len(a)+len(b)-2\n",
    "\n",
    "myp = (1 - scipy.stats.t.cdf(abs(myt), df)) * 2\n",
    "\n",
    "print('The p-value obtained when evaluating the continuous distribution function is:',myp)"
   ]
  },
  {
   "cell_type": "markdown",
   "id": "68ffab78",
   "metadata": {},
   "source": [
    "This relatively high p-value means that the probability that these two samples came from the same population is high."
   ]
  }
 ],
 "metadata": {
  "kernelspec": {
   "display_name": "Python 3 (ipykernel)",
   "language": "python",
   "name": "python3"
  },
  "language_info": {
   "codemirror_mode": {
    "name": "ipython",
    "version": 3
   },
   "file_extension": ".py",
   "mimetype": "text/x-python",
   "name": "python",
   "nbconvert_exporter": "python",
   "pygments_lexer": "ipython3",
   "version": "3.9.7"
  }
 },
 "nbformat": 4,
 "nbformat_minor": 5
}
