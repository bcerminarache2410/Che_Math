{
 "cells": [
  {
   "cell_type": "markdown",
   "id": "50a2ad6c",
   "metadata": {
    "id": "50a2ad6c"
   },
   "source": [
    "# Short explanation of a t test\n",
    "- t test tests the likelihood of obtaining a value of t from a normal population\n",
    "- t is a weighted mean in a sense. More specifically, t is the difference between two means divided by (weighted by) a standard deviation.\n",
    "- There is more than 1 way to perform a t test. We will start with a single sample t test and move on to other types of t tests later."
   ]
  },
  {
   "cell_type": "markdown",
   "id": "4b2a9681",
   "metadata": {
    "id": "4b2a9681"
   },
   "source": [
    "# \"Single sample\" t test\n",
    "- One, it should be noted that researchers working at Guinness Brewer are often credited with creating the t test while studying barley...\n",
    "- $t = \\frac{\\bar{X}-\\mu}{\\bar{\\sigma}}\\sqrt{n}$ where\n",
    "    - $\\bar{X}$ is the sample mean\n",
    "    - $\\mu$ is a hypothesized mean\n",
    "    - n is the # of measurements collected \n",
    "    - $\\bar{\\sigma}$ is the sample standard deviation\n",
    "- And it is assumed that all data measured comes from a normal distribution."
   ]
  },
  {
   "cell_type": "markdown",
   "id": "2430f586",
   "metadata": {
    "id": "2430f586"
   },
   "source": [
    "# Problem 1: Estimate p value using a brute-force sampled distributions of t.\n",
    "\n",
    "*This is identifcally what we did in class.*\n",
    "\n",
    "Step 1: Generate a normally distributed population.\n",
    "\n",
    "Let's start by ensuring we understand how to sample normally distributed data. Using random.norm from numpy, randomly sample 10,000 values from a normal distribution whose mean is 12 and standard deviation is 2. Save the values in a variable called norm_data. Plot a histogram of the collected values and then plot a density plot of the collected values. "
   ]
  },
  {
   "cell_type": "code",
   "execution_count": 1,
   "id": "b526ca3e",
   "metadata": {
    "id": "b526ca3e"
   },
   "outputs": [],
   "source": [
    "import numpy as np\n",
    "import scipy\n",
    "import matplotlib as mpl\n",
    "from matplotlib import pyplot as plt\n",
    "from scipy import stats\n",
    "import random\n",
    "\n",
    "mu = 12\n",
    "sigma = 2\n",
    "norm_data=np.random.normal(mu,sigma,10000);\n"
   ]
  },
  {
   "cell_type": "code",
   "execution_count": 2,
   "id": "f2d82c5c",
   "metadata": {},
   "outputs": [
    {
     "data": {
      "image/png": "[encoded data removed]",
      "text/plain": [
       "<Figure size 432x288 with 1 Axes>"
      ]
     },
     "metadata": {
      "needs_background": "light"
     },
     "output_type": "display_data"
    }
   ],
   "source": [
    "# Regular histogram of the data\n",
    "scipy.stats.norm.pdf(norm_data,mu,sigma);\n",
    "plt.hist(norm_data,bins = 100);\n",
    "plt.xlabel('x');\n",
    "plt.ylabel('y');"
   ]
  },
  {
   "cell_type": "code",
   "execution_count": 3,
   "id": "0d4a439e",
   "metadata": {},
   "outputs": [
    {
     "data": {
      "image/png": "[encoded data removed]",
      "text/plain": [
       "<Figure size 432x288 with 1 Axes>"
      ]
     },
     "metadata": {
      "needs_background": "light"
     },
     "output_type": "display_data"
    }
   ],
   "source": [
    "# Density plot of the data\n",
    "\n",
    "plt.hist(norm_data,density = True,bins = 100);\n",
    "plt.xlabel('x')\n",
    "plt.ylabel('Probability Density');"
   ]
  },
  {
   "cell_type": "markdown",
   "id": "5c37125c",
   "metadata": {
    "id": "5c37125c"
   },
   "source": [
    "\n",
    "Step 2: Use your normally distributed population to generate a \"null distribution\" of t values for **when n = 3.**\n",
    "\n",
    "The idea of a null hypothesis can be tricky without some practice. To generate a null hypothesis for any statistic requires choosing representative values, in this case for the population mean $\\mu$. Ultimatelty, we are asking \"if I know the what my population is, then how much variation is expected in the value of t when I collect data from my defined population?\" \n",
    "\n",
    "To do this, write a for-loop in which you collect 3 samples from your normal distribution data (norm_data) above and calculate t. Iterate through this loop 1000 times and for each iteration, calculate and save the t statistic. Plot a histogram of the collected values and then plot a density plot of the collected values."
   ]
  },
  {
   "cell_type": "code",
   "execution_count": 4,
   "id": "459370ef",
   "metadata": {
    "id": "459370ef"
   },
   "outputs": [],
   "source": [
    "t = np.zeros(1000);\n",
    "for j in range(len(t)):\n",
    "    sam = random.sample(list(norm_data),3); \n",
    "    xbar = np.sum(sam)/len(sam);\n",
    "    s=np.std(sam,ddof=1);\n",
    "    t[j] = (xbar-mu)/s;"
   ]
  },
  {
   "cell_type": "code",
   "execution_count": 5,
   "id": "87d933d4",
   "metadata": {},
   "outputs": [
    {
     "data": {
      "image/png": "[encoded data removed]",
      "text/plain": [
       "<Figure size 432x288 with 1 Axes>"
      ]
     },
     "metadata": {
      "needs_background": "light"
     },
     "output_type": "display_data"
    }
   ],
   "source": [
    "# Plotting the values on a normal histogram\n",
    "plt.hist(t,bins=200);\n",
    "plt.xlim([-10,10]);\n",
    "plt.xlabel('t');\n",
    "plt.ylabel('y');"
   ]
  },
  {
   "cell_type": "code",
   "execution_count": 6,
   "id": "3917d612",
   "metadata": {},
   "outputs": [
    {
     "data": {
      "image/png": "[encoded data removed]",
      "text/plain": [
       "<Figure size 432x288 with 1 Axes>"
      ]
     },
     "metadata": {
      "needs_background": "light"
     },
     "output_type": "display_data"
    }
   ],
   "source": [
    "# Plotting the values on a probability density histogram\n",
    "plt.hist(t,density = True,bins=200);\n",
    "plt.xlim([-10,10]);\n",
    "plt.xlabel('t');\n",
    "plt.ylabel('Probability Density');"
   ]
  },
  {
   "cell_type": "markdown",
   "id": "d6e68da3",
   "metadata": {
    "id": "d6e68da3"
   },
   "source": [
    "Check that distribution works correctly.\n",
    "\n",
    "Let's ensure that we can use our distribution to estimate a p value. You take 3 random measurements and get these numbers: 9.45, 10.3, and 11. Calculate and print your t value (call it t_val) and use your t distribution to estimate the odds of obtaining a t that is less than or equal to t_val. \n",
    "\n",
    "Check your answer by using stats.ttest_1samp to compare your p value with a p value calculated using the stats library."
   ]
  },
  {
   "cell_type": "code",
   "execution_count": 7,
   "id": "ffc65248",
   "metadata": {},
   "outputs": [
    {
     "name": "stdout",
     "output_type": "stream",
     "text": [
      "The odds of getting a t that is less than or equal to the measurement t is p_val = 0.023\n",
      "The same metric according to stats.ttest is Ttest_1sampResult(statistic=-3.9049920173544073, pvalue=0.029880068940888967)\n"
     ]
    }
   ],
   "source": [
    "meas = [9.45, 10.3, 11.];\n",
    "xbar_meas = np.sum(meas)/len(meas);\n",
    "s_meas = np.std(meas,ddof=1);\n",
    "t_val = (xbar_meas-mu)/s_meas;\n",
    "p_val = np.sum(t <= t_val)/len(t);\n",
    "print('The odds of getting a t that is less than or equal to the measurement t is p_val =',p_val)\n",
    "\n",
    "print('The same metric according to stats.ttest is',stats.ttest_1samp(meas,mu,alternative=\"less\"))"
   ]
  },
  {
   "cell_type": "markdown",
   "id": "6c3ca7b1",
   "metadata": {
    "id": "6c3ca7b1"
   },
   "source": [
    "# Problem 2: Does changing the number of samples collected (n) change the t distribution?\n",
    "\n",
    "Step 3: Repeat step 2 but collect 6 samples from your normal distributions and the calculate t for each iteration. How do the density plots compare to the answer in Problem 1? Your answer must be clear."
   ]
  },
  {
   "cell_type": "code",
   "execution_count": 8,
   "id": "b686b965",
   "metadata": {
    "id": "459370ef"
   },
   "outputs": [],
   "source": [
    "t_2 = np.zeros(1000);\n",
    "for j in range(len(t_2)):\n",
    "    sam_2 = random.sample(list(norm_data),6); \n",
    "    xbar_2 = np.sum(sam_2)/len(sam_2);\n",
    "    s_2=np.std(sam_2,ddof=1);\n",
    "    t_2[j] = (xbar_2-mu)/s_2;"
   ]
  },
  {
   "cell_type": "code",
   "execution_count": 9,
   "id": "6c071836",
   "metadata": {},
   "outputs": [
    {
     "data": {
      "image/png": "[encoded data removed]",
      "text/plain": [
       "<Figure size 432x288 with 1 Axes>"
      ]
     },
     "metadata": {
      "needs_background": "light"
     },
     "output_type": "display_data"
    }
   ],
   "source": [
    "# Plotting the values on a normal histogram\n",
    "plt.hist(t_2,bins=200);\n",
    "plt.xlim([-10,10]);\n",
    "plt.xlabel('t_2');\n",
    "plt.ylabel('y');"
   ]
  },
  {
   "cell_type": "code",
   "execution_count": 10,
   "id": "ce90281f",
   "metadata": {},
   "outputs": [
    {
     "data": {
      "image/png": "[encoded data removed]",
      "text/plain": [
       "<Figure size 432x288 with 1 Axes>"
      ]
     },
     "metadata": {
      "needs_background": "light"
     },
     "output_type": "display_data"
    }
   ],
   "source": [
    "# Plotting the values on a probability density histogram\n",
    "plt.hist(t_2,density = True,bins=100);\n",
    "plt.xlim([-10,10]);\n",
    "plt.xlabel('t_2');\n",
    "plt.ylabel('Probability Density');"
   ]
  },
  {
   "cell_type": "markdown",
   "id": "44f06d1c",
   "metadata": {
    "id": "a02c6eba"
   },
   "source": [
    "When taking three points in a sample population, the t distribution has a more spread-out shape while the distriution with six measurements is more compact. This is likely due to the idea where as you take more measurements for a sample population, the mean of the sample population will approach that of the overall population. The opposite of course happens as you take less measurements in a sample. Therefore, it makes sense that the t distribution would get more compact around t = 0 since the value of $\\bar{x}-\\mu$ gets closer to zero."
   ]
  },
  {
   "cell_type": "markdown",
   "id": "0d984f79",
   "metadata": {
    "id": "0d984f79"
   },
   "source": [
    "# Problem 3: Does changing the mean and standard deviation of the population change the t distribution?\n",
    "\n",
    "Step 4: We will skip step 1 this time and just directly pull samples from the population using random.norm($\\mu$,$\\sigma$,n=3). Write a for-loop in which you collect 3 samples from a normal distribution that has a mean of 6 and a standard deviation of 3 and calculate t. Iterate through this loop 1000 times and for each iteration, calculate and save the t statistic. Plot a histogram of the collected values and then plot a density plot of the collected values. Compare the t distribution to the t distribution estimated in Problem 1 and Comment."
   ]
  },
  {
   "cell_type": "code",
   "execution_count": 11,
   "id": "6d01561e",
   "metadata": {
    "id": "6d01561e"
   },
   "outputs": [],
   "source": [
    "mu_3 = 6;\n",
    "sigma_3 = 3;\n",
    "norm_data_3 = np.random.normal(mu_3,sigma_3,10000);"
   ]
  },
  {
   "cell_type": "code",
   "execution_count": 12,
   "id": "5178fbbc",
   "metadata": {
    "id": "459370ef"
   },
   "outputs": [],
   "source": [
    "t_3 = np.zeros(1000);\n",
    "for j in range(len(t_3)):\n",
    "    sam_3 = random.sample(list(norm_data_3),3); \n",
    "    xbar_3 = np.sum(sam_3)/len(sam_3);\n",
    "    s_3 = np.std(sam_3,ddof=1);\n",
    "    t_3[j] = (xbar_3-mu_3)/s_3;"
   ]
  },
  {
   "cell_type": "code",
   "execution_count": 13,
   "id": "3d406739",
   "metadata": {},
   "outputs": [
    {
     "data": {
      "image/png": "[encoded data removed]",
      "text/plain": [
       "<Figure size 432x288 with 1 Axes>"
      ]
     },
     "metadata": {
      "needs_background": "light"
     },
     "output_type": "display_data"
    }
   ],
   "source": [
    "# Plotting the values on a normal histogram\n",
    "plt.hist(t_3,bins=200);\n",
    "plt.xlim([-10,10]);\n",
    "plt.xlabel('t_3');\n",
    "plt.ylabel('y');"
   ]
  },
  {
   "cell_type": "code",
   "execution_count": 14,
   "id": "fe071175",
   "metadata": {},
   "outputs": [
    {
     "data": {
      "image/png": "[encoded data removed]",
      "text/plain": [
       "<Figure size 432x288 with 1 Axes>"
      ]
     },
     "metadata": {
      "needs_background": "light"
     },
     "output_type": "display_data"
    }
   ],
   "source": [
    "# Plotting the values on a probability density histogram\n",
    "plt.hist(t_3,density = True,bins=200);\n",
    "plt.xlim([-10,10]);\n",
    "plt.xlabel('t_3');\n",
    "plt.ylabel('Probability Density');"
   ]
  },
  {
   "cell_type": "markdown",
   "id": "d58d16a4",
   "metadata": {},
   "source": [
    "The t distribution in part 1 is mostly between -2.5 and 2.5, which is the same in this problem. The distribution in problem 1 is slightly more spread out over the mentioned range, while this one is slightly \"tighter\". However, that aspect can't be quantified to munch extent, so it is safer to say that the two parts have a very similar distribution. Therefore, it appears that changing the mean and standard deviation does not have a sizable impact on the t distributions of different populations. Rather, the number of sample population measurements has a much larger effect on the shape of the t distribution."
   ]
  },
  {
   "cell_type": "markdown",
   "id": "29782c17",
   "metadata": {
    "id": "29782c17"
   },
   "source": [
    "# Our takeways \n",
    "\n",
    "- t is used to determine the likelihood of obtaining a value of t with n measurements sampled from a normal distribution.\n",
    "    - Interesting, the effect of n and the choice of $\\mu$ and $\\sigma$: **The choice of n directly affects the shape of a population's t distribution, while the choice of $\\mu$ and $\\sigma$ have little to no noticable effect!**\n",
    "- Note we have only covered the \"single sample\" t test here. A more commonly used t test is the two sample, which we'll cover next."
   ]
  },
  {
   "cell_type": "code",
   "execution_count": null,
   "id": "ce185db1",
   "metadata": {
    "id": "ce185db1"
   },
   "outputs": [],
   "source": []
  }
 ],
 "metadata": {
  "celltoolbar": "Slideshow",
  "colab": {
   "collapsed_sections": [],
   "provenance": []
  },
  "kernelspec": {
   "display_name": "Python 3 (ipykernel)",
   "language": "python",
   "name": "python3"
  },
  "language_info": {
   "codemirror_mode": {
    "name": "ipython",
    "version": 3
   },
   "file_extension": ".py",
   "mimetype": "text/x-python",
   "name": "python",
   "nbconvert_exporter": "python",
   "pygments_lexer": "ipython3",
   "version": "3.9.7"
  }
 },
 "nbformat": 4,
 "nbformat_minor": 5
}
